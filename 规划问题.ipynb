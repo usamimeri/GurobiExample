{
 "cells": [
  {
   "attachments": {},
   "cell_type": "markdown",
   "id": "e0e067ad",
   "metadata": {},
   "source": [
    "# Gurobi优化器\n",
    "* 建模流程：\n",
    "![图片](image/流程.png)\n",
    "* 核心概念\n",
    "    * 参数：控制求解的操作，通过调用`setParam()`\n",
    "            setParam('TimeLimit',60) 设置求解世界为60秒 #设置全局参数\n",
    "            model.TimeLimit=60 #设置局部参数，只对这个模型有效\n",
    "    * 属性：每个参数都有属性，例如：\n",
    "        * 变量有名字、值、上下界等\n",
    "        * 约束有名字，类型等\n"
   ]
  },
  {
   "attachments": {},
   "cell_type": "markdown",
   "id": "2b2e5a01",
   "metadata": {},
   "source": [
    "## 运算符介绍"
   ]
  },
  {
   "attachments": {},
   "cell_type": "markdown",
   "id": "a936dc88",
   "metadata": {},
   "source": [
    "### quicksum：代替python的sum，会更快\n",
    "> 重点：利用列表推导式写求和式，搭配quicksum\n",
    "1.  一般来说一个求和符号就代表要用一个推导式for之类，可以加入if和else限定\n",
    "2. 也可以用更快速的.sum方法\n",
    "\n",
    "例子： $\\sum\\limits_{j\\in J}x_{i,j}\\le 5\\quad \\forall i\\in I$ \n",
    "\n",
    "以下两种写法是等同的：\n",
    "* `m.addConstr(quicksum(x[i,j] for j in J) <= 5 for j in J)`\n",
    "* `m.addConstr((x.sum(i,'*') <= 5) for i in I)`\n",
    "    "
   ]
  },
  {
   "attachments": {},
   "cell_type": "markdown",
   "id": "7bf975a3",
   "metadata": {},
   "source": [
    "## 创建模型和决策变量 \n",
    "`m=grb.Model()`\n"
   ]
  },
  {
   "attachments": {},
   "cell_type": "markdown",
   "id": "d9321841",
   "metadata": {},
   "source": [
    "### 创建单变量(可以指定上下界，具体见参数)\n",
    "      grb.Model.addVar(vtype='C',name='')\n",
    "        \n",
    "      vtype (string): 变量类型，默认是GRB.CONTINUOUS连续型变量，\n",
    "      可选择GRB.BINARY二分类变量\n",
    "      GRB.INTEGER整数变量，\n",
    "      GRB.SEMICONT 半连续变量，即取0或者取一个范围\n",
    "      addVar(vtype=GRB.SEMICONT,lb=40,ub=100)相当于x=0或40<=x<=100\n",
    "      GRB.SEMIINT 半连续整数变量同上\n",
    "      name (string):变量名\n",
    "      \n",
    "      例如：x=m.addVar(vtype=GRB.BINARY,name='x') \n"
   ]
  },
  {
   "attachments": {},
   "cell_type": "markdown",
   "id": "2b0bcf98",
   "metadata": {},
   "source": [
    " ### 创建多变量\n",
    " \n",
    " \n",
    "     addVars (*indices,vtype=,name=)\n",
    "     indices：索引集\n",
    "     name=常量，比如x = model.addVars(2,3,name=\"x\")则变量会被按下标自动命名x[0,0],x[1,2]等(见线性规划第一个例子)\n",
    "例如`x=m.addVars(3,vtype=GRB.CONTINUOUS)`\n",
    "* 调用m.getVars()会发现gurobi创建了三个变量，分别是[<gurobi.Var C0>, <gurobi.Var C1>, <gurobi.Var C2>],通过x[0],x[1],x[2]可以分别访问到它们\n",
    "\n",
    "例如`x=m.addVars(3,4,5,vtype=GRB>CONTINUOUS)`\n",
    "* gurobi就创建了一个3x4x5的变量张量，可以通过x[i,j,k]的格式进行访问\n",
    "\n",
    "也可以传入列表，会计算它们的笛卡尔积`m.addVars(['甲','乙'],[1,2],vtype=xx)`\n",
    "* 会创建四个变量，分别为['甲',1],['甲',2],['乙',1],['乙',2]\n",
    "\n",
    "**注意**\n",
    "\n",
    "如果你为变量起了别名，将会导致后续循环时外部代价函数没法索引（因为不再和x[i,j,k]一样格式了），这个时候可以用dataframe，在命名好列和行名的情况下用dataframe.at[行名,列名]来取\n",
    ">这种情况见整数规划中的超市经营问题有演示"
   ]
  },
  {
   "cell_type": "code",
   "execution_count": 52,
   "id": "5b412cc4",
   "metadata": {
    "ExecuteTime": {
     "end_time": "2023-05-26T16:02:51.636258Z",
     "start_time": "2023-05-26T16:02:51.619177Z"
    }
   },
   "outputs": [
    {
     "data": {
      "text/plain": [
       "[<gurobi.Var C0>, <gurobi.Var C1>, <gurobi.Var C2>, <gurobi.Var C3>]"
      ]
     },
     "execution_count": 52,
     "metadata": {},
     "output_type": "execute_result"
    }
   ],
   "source": [
    "'''返回变量'''\n",
    "m=Model()\n",
    "country=['美国','中国','英国','日本']\n",
    "industry=['农业','工业','制造业','服务业']\n",
    "x=m.addVars(country,industry)\n",
    "m.update()\n",
    "'''选取美国的所有产业'''\n",
    "x.select('美国','*')#这其实是代表第一行，所有列"
   ]
  },
  {
   "attachments": {},
   "cell_type": "markdown",
   "id": "43f12683",
   "metadata": {},
   "source": [
    "### tupledict\n",
    "> 多变量会返回一个tupledict，具体见网站[gurobi](https://www.gurobi.com/documentation/9.5/refman/py_tuplelist.html)\n",
    "\n",
    "**一些方法**\n",
    "* select() 选取tuplelist的变量,'*'表示选取所有的那部分，其他需要指定名字或默认索引\n",
    "    \n",
    "    - 例如x=m.addVars(4,4),就相当于创建了一个4x4的矩阵，x.select(0,'*')为选择矩阵的第一行所有列（索引从0开始）\n",
    "    - 具体见下面例子 \n",
    "* sum():将select到的求和\n",
    "      x = m.addVars([(1,2), (1,3), (2,3)])\n",
    "      expr = x.sum()       # LinExpr: x[1,2] + x[1,3] + x[2,3]\n",
    "      expr = x.sum(1, '*') # LinExpr: x[1,2] + x[1,3]\n",
    "      expr = x.sum('*', 3) # LinExpr: x[1,3] + x[2,3]\n",
    "      expr = x.sum(1, 3)   # LinExpr: x[1,3]"
   ]
  },
  {
   "attachments": {},
   "cell_type": "markdown",
   "id": "171feaa4",
   "metadata": {},
   "source": [
    "### 创建矩阵多变量\n",
    "优点是直接可以用于A@x<=b，利用numpy的ndarray构造标准形式，并且可以切片\n",
    "\n",
    "    addMVar ( shape,vtype=GRB.CONTINUOUS, name=\"\" )\n",
    "      x = model.addMVar(10)                      # add a 1-D array of 10 variables\n",
    "      y = model.addMVar((3,4), vtype=GRB.BINARY) # add a 3x4 2-D array of binary variables\n",
    "      print(y[:,1:3])                            # take a slice of a 2-D array"
   ]
  },
  {
   "cell_type": "code",
   "execution_count": 12,
   "id": "ede5dbfd",
   "metadata": {
    "ExecuteTime": {
     "end_time": "2023-05-25T06:51:39.071912Z",
     "start_time": "2023-05-25T06:51:39.056909Z"
    }
   },
   "outputs": [
    {
     "data": {
      "text/plain": [
       "<MConstr (3,)>"
      ]
     },
     "execution_count": 12,
     "metadata": {},
     "output_type": "execute_result"
    }
   ],
   "source": [
    "m=Model()\n",
    "x=m.addMVar(10)\n",
    "m.update()\n",
    "A=np.random.randn(3,10)\n",
    "b=np.random.randn(3)\n",
    "con=m.addConstr(A@x<=b)\n",
    "m.update()\n",
    "con"
   ]
  },
  {
   "attachments": {},
   "cell_type": "markdown",
   "id": "4c16885b",
   "metadata": {},
   "source": [
    "## 创建目标函数 `setObjective(expr, sense=None)`\n",
    "* expr:表达式，如x+y或者x\\*x+y\\*y\n",
    "* sense最优化选择，GRB.MINIMIZE最小化,GRB.MAXIMIZE最大化"
   ]
  },
  {
   "cell_type": "code",
   "execution_count": 15,
   "id": "74a4854b",
   "metadata": {
    "ExecuteTime": {
     "end_time": "2023-05-24T09:20:01.914885Z",
     "start_time": "2023-05-24T09:20:01.886384Z"
    }
   },
   "outputs": [],
   "source": [
    "m.setObjective(2*x1+3*x2-5*x3,GRB.MAXIMIZE)"
   ]
  },
  {
   "attachments": {},
   "cell_type": "markdown",
   "id": "c823c384",
   "metadata": {},
   "source": [
    "## 创建约束条件\n",
    "### 创建单约束\n",
    "    m.addConstr(lhs,name='')\n",
    "    lhs:约束的左侧，可以是常数、变量或线性表达式，注意只能有一个比较运算符\n",
    "    name:可选的约束名\n",
    "    \n",
    "**例子**\n",
    "\n",
    "* c = model.addConstr(A @ x <= b) 线性规划的标准型\n",
    "\n",
    "* 允许添加两侧约束：$1\\le x+y+z\\le2$：`model.addConstr(x + y + z == [1, 2])` \n",
    "* 允许添加非线性约束：`model.addConstr(x*x + y*y <= 1)`\n",
    "* 允许添加最大最小值：$z=\\max(x,y)$`model.addConstr(z == min_(x, y))`\n",
    "    * z==max_([x,y],constant=3) max_表示z取这些决策变量的最大值,constant里存常数\n",
    "\n",
    "* 允许添加条件表达式：$if \\quad w=1\\Longrightarrow x+y\\le1$`model.addConstr((w == 1) >> (x + y <= 1)) `\n"
   ]
  },
  {
   "attachments": {},
   "cell_type": "markdown",
   "id": "4f4e9d1b",
   "metadata": {},
   "source": [
    "### 创建多个约束\n",
    "**常与推导式结合使用**\n",
    "* $\\sum\\limits_{i\\in I,j\\in J}x_{ijk}\\ge1,\\forall k \\in K$,I，J，K为前面指定好的范围列表\n",
    "\n",
    "等价于`m.addConstrs(sum(x[i,j,k] for i in I for j in J) >= 1 for k in K) `\n",
    "* $\\max{\\sum\\limits_{i\\in I,j\\in J,k\\in K}x_{ijk}*d_{ik}*m_{jk}}$的目标函数等价于\n",
    "\n",
    "        m.setObjective(sum(x[i, j, k] * rate_ik[i][k] * all_jk[j][k] \n",
    "        for i in I for j in J for k in K),GRB.MAXIMIZE)"
   ]
  },
  {
   "attachments": {},
   "cell_type": "markdown",
   "id": "680b1b99",
   "metadata": {},
   "source": [
    "## 获取各决策变量的值和最优解\n",
    "1.  调用`getVars() `\n",
    " - varname获取变量名\n",
    " - x获取变量值\n",
    "\n",
    "2. 获取最优解`m.objVal`\n"
   ]
  },
  {
   "attachments": {},
   "cell_type": "markdown",
   "id": "e0cfe76c",
   "metadata": {},
   "source": [
    "## 用矩阵形式存储最优解（适用非常多变量）\n",
    "> 用到了获取属性值的函数 getAttr(属性,变量（可选）)，例如可以传入varname或者x\n",
    "1. `solution = m.getAttr('x',x)`;`solution.items()`\n",
    "* 结果类似下面\n",
    "        [((0, 0), -0.0),\n",
    "         ((0, 1), 19.0),\n",
    "         ((0, 2), -0.0),\n",
    "         ((0, 3), -0.0),\n",
    "         ((0, 4), 41.0),\n",
    "         ((0, 5), -0.0),\n",
    "* 左边的元组为索引，右边为值，就可以写程序将其写入pandas，ndarray等\n",
    "2. 直接推导式[i for i in m.getAttr('x')] 由于没有传入变量，会直接给出所有的最终值\n",
    "        [5.0,\n",
    "         -0.0,\n",
    "         -0.0,\n",
    "         10.0,\n",
    "         -0.0,"
   ]
  },
  {
   "attachments": {},
   "cell_type": "markdown",
   "id": "77069a0a",
   "metadata": {},
   "source": [
    "## 获取求解器的更多信息\n",
    "> 例如获取约束表达式等\n",
    "\n",
    "**例如如下例子**\n",
    "1. m.display()获取全部信息，需要在获取前update\n",
    "1. model.getRow(con) 获取约束con的左侧表达式\n",
    "1. con.Sense获取约束的符号，如大于小于等于\n",
    "1. con.RHS 获取约束的右侧表达式"
   ]
  },
  {
   "cell_type": "code",
   "execution_count": 46,
   "id": "ac63161e",
   "metadata": {
    "ExecuteTime": {
     "end_time": "2023-05-27T07:00:49.209796Z",
     "start_time": "2023-05-27T07:00:49.186538Z"
    }
   },
   "outputs": [
    {
     "name": "stdout",
     "output_type": "stream",
     "text": [
      "Minimize\n",
      "2800.0 x[1,1] + 4500.0 x[1,2] + 6000.0 x[1,3] + 7300.0 x[1,4] + 2800.0 x[2,1]\n",
      "+ 4500.0 x[2,2] + 6000.0 x[2,3] + 2800.0 x[3,1] + 4500.0 x[3,2] + 2800.0 x[4,1]\n",
      "Subject To\n",
      "  R0: x[1,1] + x[1,2] + x[1,3] + x[1,4] >= 15\n",
      "  R1: x[1,2] + x[1,3] + x[1,4] + x[2,1] + x[2,2] + x[2,3] >= 10\n",
      "  R2: x[1,3] + x[1,4] + x[2,2] + x[2,3] + x[3,1] + x[3,2] >= 20\n",
      "  R3: x[1,4] + x[2,3] + x[3,2] + x[4,1] >= 12\n",
      "General Integers\n",
      "['x[1,1]', 'x[1,2]', 'x[1,3]', 'x[1,4]', 'x[2,1]', 'x[2,2]', 'x[2,3]', 'x[2,4]',\n",
      " 'x[3,1]', 'x[3,2]', 'x[3,3]', 'x[3,4]', 'x[4,1]', 'x[4,2]', 'x[4,3]', 'x[4,4]']\n"
     ]
    }
   ],
   "source": [
    "m=Model('租借')\n",
    "I=(list(range(1,5)))\n",
    "x=m.addVars(I,I,vtype=GRB.INTEGER,name='x') #命名为x\n",
    "con=m.addConstr(quicksum(x[1,j] for j in range(1,5))>=15)\n",
    "m.addConstr(x[1,2]+x[1,3]+x[1,4]+x[2,1]+x[2,2]+x[2,3]>=10)\n",
    "m.addConstr(x[1,3]+x[1,4]+x[2,2]+x[2,3]+x[3,1]+x[3,2]>=20)\n",
    "m.addConstr(x[1,4]+x[2,3]+x[3,2]+x[4,1]>=12)\n",
    "m.setObjective(2800*sum(x.select('*',1))+4500*(x[1,2]+x[2,2]+x[3,2])+6000*(x[1,3]+x[2,3])+7300*x[1,4],GRB.MINIMIZE)\n",
    "m.update()\n",
    "m.display()"
   ]
  },
  {
   "attachments": {},
   "cell_type": "markdown",
   "id": "3f6c7157",
   "metadata": {},
   "source": [
    "# 线性规划"
   ]
  },
  {
   "attachments": {},
   "cell_type": "markdown",
   "id": "d91f0198",
   "metadata": {
    "ExecuteTime": {
     "end_time": "2023-05-25T04:36:57.403822Z",
     "start_time": "2023-05-25T04:36:57.396141Z"
    }
   },
   "source": [
    "## 例题一\n",
    "见python建模书投资题\n",
    "* 可以改成矩阵形式"
   ]
  },
  {
   "cell_type": "code",
   "execution_count": 43,
   "id": "f946d259",
   "metadata": {
    "ExecuteTime": {
     "end_time": "2023-05-26T15:44:03.840561Z",
     "start_time": "2023-05-26T15:44:03.821387Z"
    }
   },
   "outputs": [
    {
     "name": "stdout",
     "output_type": "stream",
     "text": [
      "x[1,1]的最优解为：5.0\n",
      "x[1,2]的最优解为：-0.0\n",
      "x[1,3]的最优解为：-0.0\n",
      "x[1,4]的最优解为：10.0\n",
      "x[2,1]的最优解为：-0.0\n",
      "x[2,2]的最优解为：-0.0\n",
      "x[2,3]的最优解为：-0.0\n",
      "x[2,4]的最优解为：-0.0\n",
      "x[3,1]的最优解为：8.0\n",
      "x[3,2]的最优解为：2.0\n",
      "x[3,3]的最优解为：-0.0\n",
      "x[3,4]的最优解为：-0.0\n",
      "x[4,1]的最优解为：-0.0\n",
      "x[4,2]的最优解为：-0.0\n",
      "x[4,3]的最优解为：-0.0\n",
      "x[4,4]的最优解为：-0.0\n",
      "最优解为： 118400.0\n"
     ]
    }
   ],
   "source": [
    "m=Model('租借')\n",
    "I=(list(range(1,5)))\n",
    "x=m.addVars(I,I,vtype=GRB.INTEGER,name='x') #命名为x\n",
    "m.update()\n",
    "con=m.addConstr(quicksum(x[1,j] for j in range(1,5))>=15)\n",
    "m.addConstr(x[1,2]+x[1,3]+x[1,4]+x[2,1]+x[2,2]+x[2,3]>=10)\n",
    "m.addConstr(x[1,3]+x[1,4]+x[2,2]+x[2,3]+x[3,1]+x[3,2]>=20)\n",
    "m.addConstr(x[1,4]+x[2,3]+x[3,2]+x[4,1]>=12)\n",
    "m.setObjective(2800*sum(x.select('*',1))+4500*(x[1,2]+x[2,2]+x[3,2])+6000*(x[1,3]+x[2,3])+7300*x[1,4],GRB.MINIMIZE)\n",
    "m.setParam('OutputFlag', 0) #关闭求解信息\n",
    "m.optimize()\n",
    "for i in m.getVars():\n",
    "    print(f'{i.varname}的最优解为：{i.x}')\n",
    "print('最优解为：',m.objVal)"
   ]
  },
  {
   "attachments": {},
   "cell_type": "markdown",
   "id": "b2cd97e5",
   "metadata": {},
   "source": [
    "## 例题2\n",
    "见姜启源书第一题"
   ]
  },
  {
   "cell_type": "code",
   "execution_count": 24,
   "id": "aa4ee634",
   "metadata": {
    "ExecuteTime": {
     "end_time": "2023-05-26T15:29:39.609962Z",
     "start_time": "2023-05-26T15:29:39.325964Z"
    }
   },
   "outputs": [
    {
     "name": "stdout",
     "output_type": "stream",
     "text": [
      "x[0]的最优解为：20.0\n",
      "x[1]的最优解为：30.0\n",
      "最优解为： 3360.0\n"
     ]
    }
   ],
   "source": [
    "from gurobipy import *\n",
    "import numpy as np\n",
    "m=Model()\n",
    "x=m.addMVar(2,vtype=GRB.INTEGER,name='x')\n",
    "m.update()\n",
    "A=np.array([[12,8],[1,1],[3,0]])\n",
    "b=np.array([480,50,100])\n",
    "m.addConstr(A@x<=b)\n",
    "m.setObjective(72*x[0]+64*x[1],GRB.MAXIMIZE)\n",
    "m.setParam('OutputFlag', 0) #关闭求解信息\n",
    "m.optimize()\n",
    "for i in m.getVars():\n",
    "    print(f'{i.varname}的最优解为：{i.x}')\n",
    "print('最优解为：',m.objVal)"
   ]
  },
  {
   "attachments": {},
   "cell_type": "markdown",
   "id": "2e9d3324",
   "metadata": {},
   "source": [
    "## 例题3 运输问题\n",
    "* 重点学习我quicksum里面的写法\n",
    "* 这里将注意如何输入输出格式"
   ]
  },
  {
   "cell_type": "code",
   "execution_count": 45,
   "id": "666d75b7",
   "metadata": {
    "ExecuteTime": {
     "end_time": "2023-05-26T15:45:36.497095Z",
     "start_time": "2023-05-26T15:45:36.455811Z"
    }
   },
   "outputs": [
    {
     "data": {
      "text/html": [
       "<div>\n",
       "<style scoped>\n",
       "    .dataframe tbody tr th:only-of-type {\n",
       "        vertical-align: middle;\n",
       "    }\n",
       "\n",
       "    .dataframe tbody tr th {\n",
       "        vertical-align: top;\n",
       "    }\n",
       "\n",
       "    .dataframe thead th {\n",
       "        text-align: right;\n",
       "    }\n",
       "</style>\n",
       "<table border=\"1\" class=\"dataframe\">\n",
       "  <thead>\n",
       "    <tr style=\"text-align: right;\">\n",
       "      <th></th>\n",
       "      <th>B1</th>\n",
       "      <th>B2</th>\n",
       "      <th>B3</th>\n",
       "      <th>B4</th>\n",
       "      <th>B5</th>\n",
       "      <th>B6</th>\n",
       "      <th>B7</th>\n",
       "      <th>B8</th>\n",
       "      <th>产量</th>\n",
       "    </tr>\n",
       "  </thead>\n",
       "  <tbody>\n",
       "    <tr>\n",
       "      <th>A1</th>\n",
       "      <td>6</td>\n",
       "      <td>2</td>\n",
       "      <td>6</td>\n",
       "      <td>7</td>\n",
       "      <td>4</td>\n",
       "      <td>2</td>\n",
       "      <td>5</td>\n",
       "      <td>9</td>\n",
       "      <td>60</td>\n",
       "    </tr>\n",
       "    <tr>\n",
       "      <th>A2</th>\n",
       "      <td>4</td>\n",
       "      <td>9</td>\n",
       "      <td>5</td>\n",
       "      <td>3</td>\n",
       "      <td>8</td>\n",
       "      <td>5</td>\n",
       "      <td>8</td>\n",
       "      <td>2</td>\n",
       "      <td>55</td>\n",
       "    </tr>\n",
       "    <tr>\n",
       "      <th>A3</th>\n",
       "      <td>5</td>\n",
       "      <td>2</td>\n",
       "      <td>1</td>\n",
       "      <td>9</td>\n",
       "      <td>7</td>\n",
       "      <td>4</td>\n",
       "      <td>3</td>\n",
       "      <td>3</td>\n",
       "      <td>51</td>\n",
       "    </tr>\n",
       "    <tr>\n",
       "      <th>A4</th>\n",
       "      <td>7</td>\n",
       "      <td>6</td>\n",
       "      <td>7</td>\n",
       "      <td>3</td>\n",
       "      <td>9</td>\n",
       "      <td>2</td>\n",
       "      <td>7</td>\n",
       "      <td>1</td>\n",
       "      <td>43</td>\n",
       "    </tr>\n",
       "    <tr>\n",
       "      <th>A5</th>\n",
       "      <td>2</td>\n",
       "      <td>3</td>\n",
       "      <td>9</td>\n",
       "      <td>5</td>\n",
       "      <td>7</td>\n",
       "      <td>2</td>\n",
       "      <td>6</td>\n",
       "      <td>5</td>\n",
       "      <td>41</td>\n",
       "    </tr>\n",
       "    <tr>\n",
       "      <th>A6</th>\n",
       "      <td>5</td>\n",
       "      <td>5</td>\n",
       "      <td>2</td>\n",
       "      <td>2</td>\n",
       "      <td>8</td>\n",
       "      <td>1</td>\n",
       "      <td>4</td>\n",
       "      <td>3</td>\n",
       "      <td>52</td>\n",
       "    </tr>\n",
       "    <tr>\n",
       "      <th>销量</th>\n",
       "      <td>35</td>\n",
       "      <td>37</td>\n",
       "      <td>22</td>\n",
       "      <td>32</td>\n",
       "      <td>41</td>\n",
       "      <td>32</td>\n",
       "      <td>43</td>\n",
       "      <td>38</td>\n",
       "      <td></td>\n",
       "    </tr>\n",
       "  </tbody>\n",
       "</table>\n",
       "</div>"
      ],
      "text/plain": [
       "    B1  B2  B3  B4  B5  B6  B7  B8  产量\n",
       "A1   6   2   6   7   4   2   5   9  60\n",
       "A2   4   9   5   3   8   5   8   2  55\n",
       "A3   5   2   1   9   7   4   3   3  51\n",
       "A4   7   6   7   3   9   2   7   1  43\n",
       "A5   2   3   9   5   7   2   6   5  41\n",
       "A6   5   5   2   2   8   1   4   3  52\n",
       "销量  35  37  22  32  41  32  43  38    "
      ]
     },
     "execution_count": 45,
     "metadata": {},
     "output_type": "execute_result"
    }
   ],
   "source": [
    "from gurobipy import *\n",
    "import numpy as np\n",
    "import pandas as pd\n",
    "path=r\"D:\\jupyter\\大数据建模\\Python数学建模算法与应用程序和数据\\04第4章  线性规划和整数规划模型\\data4_5_1.txt\"\n",
    "N=pd.read_table(path,header=None).rename(index=lambda x:'A'+str(x+1),columns=lambda x:'B'+str(x+1))\n",
    "N.rename(columns={'B9':'产量'},index={'A7':'销量'},inplace=True)\n",
    "d=N.iloc[-1,:-1].values\n",
    "e=N.iloc[:-1,-1].values.astype(np.int32)\n",
    "C=N.iloc[:-1,:-1].values\n",
    "N"
   ]
  },
  {
   "cell_type": "code",
   "execution_count": 51,
   "id": "a697eef6",
   "metadata": {
    "ExecuteTime": {
     "end_time": "2023-05-26T15:46:29.561767Z",
     "start_time": "2023-05-26T15:46:29.530285Z"
    }
   },
   "outputs": [
    {
     "name": "stdout",
     "output_type": "stream",
     "text": [
      "最优解为：664.0\n"
     ]
    },
    {
     "data": {
      "text/plain": [
       "array([[-0., 19., -0., -0., 41., -0., -0., -0.],\n",
       "       [ 1., -0., -0., 32., -0., -0., -0., -0.],\n",
       "       [-0., 11.,  0., -0., -0., -0., 40., -0.],\n",
       "       [-0., -0., -0., -0., -0.,  5., -0., 38.],\n",
       "       [34.,  7., -0., -0., -0., -0., -0., -0.],\n",
       "       [-0., -0., 22.,  0., -0., 27.,  3., -0.]])"
      ]
     },
     "execution_count": 51,
     "metadata": {},
     "output_type": "execute_result"
    }
   ],
   "source": [
    "m=Model('运输')\n",
    "x=m.addVars(6,8,vtype=GRB.INTEGER,name='x')\n",
    "m.update()\n",
    "m.setObjective(quicksum(C[i][j]*x[i,j] for i in range(6) for j in range(8)),GRB.MINIMIZE)\n",
    "m.addConstrs(quicksum(x[i,j] for i in range(6) )==d[j] for j in range(8))\n",
    "m.addConstrs(quicksum(x[i,j] for j in range(8))<=e[i] for i in range(6))\n",
    "m.setParam('OutputFlag', 0) #关闭求解信息\n",
    "m.optimize()\n",
    "def print_result(m):\n",
    "    solution = m.getAttr('x',x)\n",
    "    solution_matrix=np.zeros((6,8))\n",
    "    for i,j in solution.items():\n",
    "        solution_matrix[i[0]][i[1]]=j\n",
    "    print(f'最优解为：{m.ObjVal}')\n",
    "    return solution_matrix\n",
    "print_result(m)"
   ]
  },
  {
   "attachments": {},
   "cell_type": "markdown",
   "id": "22ddbb86",
   "metadata": {},
   "source": [
    "# 整数规划\n",
    ">当决策变量一个或多个是整数就是整数规划，特别的有0-1整数规划，即决策变量只能取0或1\n",
    "\n",
    "个人理解：$\\sum\\limits_{i=1}^nx_{ij}=1 \\quad \\forall j\\in J $\n",
    "* 求和符号表示<span class=\"burk\">对所有</span>，比如一个地方只能去一次，就是对所有人去这个地方的决策变量和为1\n",
    "* 任意符号或者在外面的$j=1,2,\\cdots,n$表示<span class=\"burk\">对每个</span>,即相当于外层的循环"
   ]
  },
  {
   "attachments": {},
   "cell_type": "markdown",
   "id": "886bd7b2",
   "metadata": {},
   "source": [
    "## TSP问题\n",
    "TSP的目标是找到一条从某个起点出发，一次不重复地经过所有其他节点，最终返回起点的最短路。\n",
    "1. 决策变量 $x_{ij}=\\begin{cases}1\\quad推销员决定从i地前往j地\\\\0\\quad推销员不从i地去j地\\end{cases}$\n",
    "2. 目标函数：最小化旅行费用$\\min\\sum\\limits_{i=1}^n\\sum\\limits_{j=1}^nc_{ij}x_{ij}$ 即从所有可能i到所有可能j地的路径费用是最短的\n",
    "**约束**\n",
    "\n",
    "1. 每个城市进入和出去只能为一次（一次走完的意思，不允许回头路）\n",
    "    * $\\sum\\limits_{i=1}^nx_{ij}=1 \\quad\\forall j\\in N$ 从所有可能来源地到目的地最多一次\n",
    "    *  $\\sum\\limits_{j=1}^nx_{ij}=1 \\quad\\forall i\\in N$ 从该地选择去的地方最多一个 \n",
    "2. 破圈约束：$u_i-u_{j}+n*x_{ij}\\le n-1\\quad i,j=2,3\\cdots n且u[1]=0$\n",
    "    * 这意味着循环时可以从1而不是0开始，u[0]会自动变为0"
   ]
  },
  {
   "cell_type": "code",
   "execution_count": 6,
   "id": "263d7bb1",
   "metadata": {
    "ExecuteTime": {
     "end_time": "2023-05-27T07:25:44.395108Z",
     "start_time": "2023-05-27T07:25:40.636411Z"
    }
   },
   "outputs": [
    {
     "name": "stdout",
     "output_type": "stream",
     "text": [
      "最优解： 3.0375\n",
      "[0, 6, 7, 8, 14, 13, 12, 18, 19, 20, 26, 25, 24, 30, 31, 32, 33, 27, 21, 15, 9, 10, 16, 22, 28, 34, 35, 29, 23, 17, 11, 5, 4, 3, 2, 1, 0]\n"
     ]
    }
   ],
   "source": [
    "from gurobipy import *\n",
    "import numpy as np\n",
    "import pandas as pd\n",
    "\n",
    "mat=pd.read_excel(r\"D:\\jupyter\\大数据建模\\期末\\A机器人时间矩阵.xlsx\",index_col=0)\n",
    "\n",
    "def tsp(matrix):\n",
    "    n=len(matrix)\n",
    "    N=range(n)\n",
    "    m = Model('tsp')\n",
    "    # 变量设置\n",
    "    x = m.addVars(n, n, vtype=GRB.BINARY, name='x')\n",
    "    u = m.addVars(n, vtype=GRB.CONTINUOUS, name='u')\n",
    "\n",
    "    # 目标函数\n",
    "    m.setObjective(quicksum(matrix[i,j] * x[i, j] for i in N for j in N), GRB.MINIMIZE)\n",
    "\n",
    "    # 添加限制\n",
    "    m.addConstrs(quicksum(x[i, j] for i in N ) == 1 for j in N)\n",
    "    m.addConstrs(quicksum(x[i, j] for j in N) == 1 for i in N)\n",
    "    m.addConstrs(\n",
    "        (u[i] - u[j] + n * x[i, j]) <=  n- 1 for i in range(1,n) for j in range(1, n) )\n",
    "\n",
    "    m.setParam('OutputFlag', 0) #关闭求解信息 \n",
    "\n",
    "    m.optimize()\n",
    "\n",
    "    print('最优解：',m.ObjVal)\n",
    "\n",
    "    # 找到那些是1的变量\n",
    "    result = []\n",
    "    for i in range(n):\n",
    "        for j in range(n):\n",
    "            if x[i, j].X == 1:\n",
    "                result.append([i,j])\n",
    "    return result\n",
    "def tsp_to_cycle(tsp_solution):\n",
    "    # tsp_solution是一个list,每个元素也是一个list,表示一条路径\n",
    "    cycle = []\n",
    "    visited = set()\n",
    "\n",
    "    # 找第一个未访问的点\n",
    "    for path in tsp_solution:\n",
    "        if path[0] not in visited:\n",
    "            cycle.append(path[0])\n",
    "            visited.add(path[0])\n",
    "            break \n",
    "\n",
    "    # 从第一个点开始扩展路径        \n",
    "    curr = path[0]\n",
    "    while len(visited) < len(tsp_solution):\n",
    "        for path in tsp_solution:\n",
    "            if path[0] == curr and path[1] not in visited:\n",
    "                cycle.append(path[1])\n",
    "                visited.add(path[1])\n",
    "                curr = path[1]\n",
    "                break\n",
    "\n",
    "    # 最后再连回起点\n",
    "    cycle.append(cycle[0])  \n",
    "\n",
    "    return cycle\n",
    "result=tsp(mat.values)\n",
    "print(tsp_to_cycle(result))"
   ]
  },
  {
   "cell_type": "code",
   "execution_count": null,
   "id": "f0600f37",
   "metadata": {},
   "outputs": [],
   "source": []
  },
  {
   "attachments": {},
   "cell_type": "markdown",
   "id": "d89fd7a2",
   "metadata": {},
   "source": [
    "## 工人安排问题"
   ]
  },
  {
   "cell_type": "code",
   "execution_count": 1,
   "id": "c5bc4426",
   "metadata": {
    "ExecuteTime": {
     "end_time": "2023-05-25T08:51:17.912020Z",
     "start_time": "2023-05-25T08:51:17.713975Z"
    }
   },
   "outputs": [
    {
     "name": "stdout",
     "output_type": "stream",
     "text": [
      "C0的最优解为：0.0\n",
      "C1的最优解为：40.0\n",
      "C2的最优解为：10.0\n",
      "C3的最优解为：35.0\n",
      "C4的最优解为：20.0\n",
      "C5的最优解为：35.0\n",
      "最优解为： 140.0\n"
     ]
    }
   ],
   "source": [
    "from gurobipy import *\n",
    "import numpy as np\n",
    "def print_result(m):\n",
    "    for i in m.getVars():\n",
    "        print(f'{i.varname}的最优解为：{i.x}')\n",
    "    print('最优解为：',m.objVal)\n",
    "m=Model()\n",
    "x=m.addVars(6,vtype=GRB.INTEGER)\n",
    "m.update()\n",
    "m.addConstr(x[0]+x[5]>=35)\n",
    "for i,j in enumerate([40,50,45,55,30]):\n",
    "    m.addConstr(x[i]+x[i+1]>=j)\n",
    "m.setObjective(quicksum(x[i] for i in range(6)),GRB.MINIMIZE)\n",
    "m.setParam('OutputFlag', 0) #关闭求解信息\n",
    "m.optimize()\n",
    "print_result(m)"
   ]
  },
  {
   "attachments": {},
   "cell_type": "markdown",
   "id": "d3264988",
   "metadata": {
    "ExecuteTime": {
     "end_time": "2023-05-25T08:54:40.967021Z",
     "start_time": "2023-05-25T08:54:40.931026Z"
    }
   },
   "source": [
    "## 超市经营问题\n",
    "![](image/super.jpg)\n",
    "**模型建立**\n",
    ">即我们要为五个门店各自选一个装修公司，并且让总费用最小\n",
    "\n",
    "1. 定义0-1变量$x_{ij}$当第i个装修公司对第j个门店进行装修时就取1\n",
    "2. 定义$c_{ij}$即代价矩阵的元素，为第i个公司对第j门店装修时的价格\n",
    "3. 目标函数：对所有（可能的）装修公司装修的所有门店的总价格最小 $\\min\\sum\\limits_{i=1}^4\\sum\\limits_{j=1}^6c_{ij}x_{ij}$\n",
    "4. 约束条件：\n",
    "    - 每个门店只能有一个公司装修$\\sum\\limits_{i=1}^4x_{ij}=1\\quad \\forall j \\in J$\n",
    "    - 每个公司最多承担两个门店任务 $\\sum\\limits_{j=1}^6x_{ij}\\le2\\quad \\forall i \\in I$"
   ]
  },
  {
   "cell_type": "code",
   "execution_count": 61,
   "id": "fc03403c",
   "metadata": {
    "ExecuteTime": {
     "end_time": "2023-05-25T09:47:29.369652Z",
     "start_time": "2023-05-25T09:47:29.339652Z"
    }
   },
   "outputs": [
    {
     "data": {
      "text/html": [
       "<div>\n",
       "<style scoped>\n",
       "    .dataframe tbody tr th:only-of-type {\n",
       "        vertical-align: middle;\n",
       "    }\n",
       "\n",
       "    .dataframe tbody tr th {\n",
       "        vertical-align: top;\n",
       "    }\n",
       "\n",
       "    .dataframe thead th {\n",
       "        text-align: right;\n",
       "    }\n",
       "</style>\n",
       "<table border=\"1\" class=\"dataframe\">\n",
       "  <thead>\n",
       "    <tr style=\"text-align: right;\">\n",
       "      <th></th>\n",
       "      <th>门店1</th>\n",
       "      <th>门店2</th>\n",
       "      <th>门店3</th>\n",
       "      <th>门店4</th>\n",
       "      <th>门店5</th>\n",
       "    </tr>\n",
       "  </thead>\n",
       "  <tbody>\n",
       "    <tr>\n",
       "      <th>A</th>\n",
       "      <td>15.0</td>\n",
       "      <td>13.8</td>\n",
       "      <td>12.5</td>\n",
       "      <td>11.0</td>\n",
       "      <td>14.3</td>\n",
       "    </tr>\n",
       "    <tr>\n",
       "      <th>B</th>\n",
       "      <td>14.5</td>\n",
       "      <td>14.0</td>\n",
       "      <td>13.2</td>\n",
       "      <td>10.5</td>\n",
       "      <td>15.0</td>\n",
       "    </tr>\n",
       "    <tr>\n",
       "      <th>C</th>\n",
       "      <td>13.8</td>\n",
       "      <td>13.0</td>\n",
       "      <td>12.8</td>\n",
       "      <td>11.3</td>\n",
       "      <td>14.6</td>\n",
       "    </tr>\n",
       "    <tr>\n",
       "      <th>D</th>\n",
       "      <td>14.7</td>\n",
       "      <td>13.6</td>\n",
       "      <td>13.0</td>\n",
       "      <td>11.6</td>\n",
       "      <td>14.0</td>\n",
       "    </tr>\n",
       "  </tbody>\n",
       "</table>\n",
       "</div>"
      ],
      "text/plain": [
       "    门店1   门店2   门店3   门店4   门店5\n",
       "A  15.0  13.8  12.5  11.0  14.3\n",
       "B  14.5  14.0  13.2  10.5  15.0\n",
       "C  13.8  13.0  12.8  11.3  14.6\n",
       "D  14.7  13.6  13.0  11.6  14.0"
      ]
     },
     "execution_count": 61,
     "metadata": {},
     "output_type": "execute_result"
    }
   ],
   "source": [
    "from gurobipy import *\n",
    "import numpy as np\n",
    "import pandas as pd\n",
    "'''数据准备'''\n",
    "\n",
    "I=list('ABCD') #公司集\n",
    "J=[f'门店{i}' for i in range(1,6)] #门店集合\n",
    "C=pd.read_table(r\"D:\\jupyter\\大数据建模\\Python数学建模算法与应用程序和数据\\04第4章  线性规划和整数规划模型\\data4_10.txt\",\n",
    "                header=None,names=J)\n",
    "C.index=I\n",
    "C\n"
   ]
  },
  {
   "cell_type": "code",
   "execution_count": 64,
   "id": "f9a9a825",
   "metadata": {
    "ExecuteTime": {
     "end_time": "2023-05-25T09:48:51.533354Z",
     "start_time": "2023-05-25T09:48:51.502436Z"
    }
   },
   "outputs": [
    {
     "data": {
      "text/html": [
       "<div>\n",
       "<style scoped>\n",
       "    .dataframe tbody tr th:only-of-type {\n",
       "        vertical-align: middle;\n",
       "    }\n",
       "\n",
       "    .dataframe tbody tr th {\n",
       "        vertical-align: top;\n",
       "    }\n",
       "\n",
       "    .dataframe thead th {\n",
       "        text-align: right;\n",
       "    }\n",
       "</style>\n",
       "<table border=\"1\" class=\"dataframe\">\n",
       "  <thead>\n",
       "    <tr style=\"text-align: right;\">\n",
       "      <th></th>\n",
       "      <th>门店1</th>\n",
       "      <th>门店2</th>\n",
       "      <th>门店3</th>\n",
       "      <th>门店4</th>\n",
       "      <th>门店5</th>\n",
       "    </tr>\n",
       "  </thead>\n",
       "  <tbody>\n",
       "    <tr>\n",
       "      <th>A</th>\n",
       "      <td>0.0</td>\n",
       "      <td>0.0</td>\n",
       "      <td>12.5</td>\n",
       "      <td>0.0</td>\n",
       "      <td>0.0</td>\n",
       "    </tr>\n",
       "    <tr>\n",
       "      <th>B</th>\n",
       "      <td>0.0</td>\n",
       "      <td>0.0</td>\n",
       "      <td>0.0</td>\n",
       "      <td>10.5</td>\n",
       "      <td>0.0</td>\n",
       "    </tr>\n",
       "    <tr>\n",
       "      <th>C</th>\n",
       "      <td>13.8</td>\n",
       "      <td>13.0</td>\n",
       "      <td>0.0</td>\n",
       "      <td>0.0</td>\n",
       "      <td>0.0</td>\n",
       "    </tr>\n",
       "    <tr>\n",
       "      <th>D</th>\n",
       "      <td>0.0</td>\n",
       "      <td>0.0</td>\n",
       "      <td>0.0</td>\n",
       "      <td>0.0</td>\n",
       "      <td>14.0</td>\n",
       "    </tr>\n",
       "  </tbody>\n",
       "</table>\n",
       "</div>"
      ],
      "text/plain": [
       "    门店1   门店2   门店3   门店4   门店5\n",
       "A   0.0   0.0  12.5   0.0   0.0\n",
       "B   0.0   0.0   0.0  10.5   0.0\n",
       "C  13.8  13.0   0.0   0.0   0.0\n",
       "D   0.0   0.0   0.0   0.0  14.0"
      ]
     },
     "execution_count": 64,
     "metadata": {},
     "output_type": "execute_result"
    }
   ],
   "source": [
    "m = Model()\n",
    "x = m.addVars(I, J, vtype=GRB.BINARY)\n",
    "m.update()\n",
    "m.setObjective(quicksum(C.at[i,j] * x[i,j] for i in I for j in J), GRB.MINIMIZE)\n",
    "m.addConstrs(quicksum(x[i,j] for i in I)==1 for j in J)\n",
    "m.addConstrs(quicksum(x[i,j] for j in J)<=2 for i in I)\n",
    "m.setParam('OutputFlag', 0) #关闭求解信息\n",
    "m.optimize()\n",
    "R=C.copy()\n",
    "for i,j in m.getAttr('x',x).items():\n",
    "    if j==0:\n",
    "        R.at[i[0],i[1]]=j\n",
    "R#最终答案为63.8"
   ]
  },
  {
   "attachments": {},
   "cell_type": "markdown",
   "id": "e0ffd6c6",
   "metadata": {},
   "source": [
    "## 投资风险与收益"
   ]
  },
  {
   "attachments": {},
   "cell_type": "markdown",
   "id": "d562e3d7",
   "metadata": {},
   "source": [
    "### 模型一：固定风险水平，最大化收益\n",
    "1. $\\max\\sum\\limits_{i=0}^n(r_i-p_i)x_i$\n",
    "1. 最大损失率约束：a为给定的水平$\\dfrac{q_ix_i}{M}\\le a$\n",
    "3. 拥有资金约束：$\\sum\\limits_{i=0}^n(1+p_i)x_i=M$\n",
    "4. 非负投资额约束：$x_i\\ge 0$"
   ]
  },
  {
   "cell_type": "code",
   "execution_count": 31,
   "id": "5e432994",
   "metadata": {
    "ExecuteTime": {
     "end_time": "2023-05-26T16:41:22.368221Z",
     "start_time": "2023-05-26T16:41:22.066322Z"
    }
   },
   "outputs": [
    {
     "data": {
      "application/vnd.plotly.v1+json": {
       "config": {
        "plotlyServerURL": "https://plot.ly"
       },
       "data": [
        {
         "marker": {
          "size": 12,
          "symbol": "star"
         },
         "mode": "markers",
         "type": "scatter",
         "x": [
          0.001,
          0.002,
          0.003,
          0.004,
          0.005,
          0.006,
          0.007,
          0.008,
          0.009000000000000001,
          0.010000000000000002,
          0.011000000000000003,
          0.012000000000000004,
          0.013000000000000005,
          0.014000000000000005,
          0.015000000000000006,
          0.016000000000000007,
          0.017000000000000008,
          0.01800000000000001,
          0.01900000000000001,
          0.02000000000000001,
          0.02100000000000001,
          0.022000000000000013,
          0.023000000000000013,
          0.024000000000000014,
          0.025000000000000015,
          0.026000000000000016,
          0.027000000000000017,
          0.028000000000000018,
          0.02900000000000002,
          0.03000000000000002,
          0.03100000000000002,
          0.03200000000000002,
          0.03300000000000002,
          0.03400000000000002,
          0.035000000000000024,
          0.036000000000000025,
          0.037000000000000026,
          0.03800000000000003,
          0.03900000000000003,
          0.04000000000000003,
          0.04100000000000003,
          0.04200000000000003,
          0.04300000000000003,
          0.04400000000000003,
          0.04500000000000003,
          0.046000000000000034,
          0.047000000000000035,
          0.048000000000000036,
          0.04900000000000004,
          0.05000000000000004
         ],
         "y": [
          755.2761072261072,
          1010.5522144522145,
          1265.8283216783216,
          1521.104428904429,
          1776.3805361305363,
          2019.0763977806232,
          2066.074263764405,
          2112.433811802233,
          2155.196172248804,
          2190.196078431373,
          2222.9411764705883,
          2255.686274509804,
          2288.43137254902,
          2321.1764705882356,
          2353.921568627451,
          2386.666666666667,
          2419.4117647058824,
          2452.1568627450984,
          2484.9019607843143,
          2517.6470588235297,
          2550.392156862745,
          2583.1372549019616,
          2615.8823529411775,
          2648.627450980393,
          2673.2673267326736,
          2673.2673267326736,
          2673.2673267326736,
          2673.2673267326736,
          2673.2673267326736,
          2673.2673267326736,
          2673.2673267326736,
          2673.2673267326736,
          2673.2673267326736,
          2673.2673267326736,
          2673.2673267326736,
          2673.2673267326736,
          2673.2673267326736,
          2673.2673267326736,
          2673.2673267326736,
          2673.2673267326736,
          2673.2673267326736,
          2673.2673267326736,
          2673.2673267326736,
          2673.2673267326736,
          2673.2673267326736,
          2673.2673267326736,
          2673.2673267326736,
          2673.2673267326736,
          2673.2673267326736,
          2673.2673267326736
         ]
        }
       ],
       "layout": {
        "font": {
         "size": 18
        },
        "template": {
         "data": {
          "bar": [
           {
            "error_x": {
             "color": "#2a3f5f"
            },
            "error_y": {
             "color": "#2a3f5f"
            },
            "marker": {
             "line": {
              "color": "#E5ECF6",
              "width": 0.5
             },
             "pattern": {
              "fillmode": "overlay",
              "size": 10,
              "solidity": 0.2
             }
            },
            "type": "bar"
           }
          ],
          "barpolar": [
           {
            "marker": {
             "line": {
              "color": "#E5ECF6",
              "width": 0.5
             },
             "pattern": {
              "fillmode": "overlay",
              "size": 10,
              "solidity": 0.2
             }
            },
            "type": "barpolar"
           }
          ],
          "carpet": [
           {
            "aaxis": {
             "endlinecolor": "#2a3f5f",
             "gridcolor": "white",
             "linecolor": "white",
             "minorgridcolor": "white",
             "startlinecolor": "#2a3f5f"
            },
            "baxis": {
             "endlinecolor": "#2a3f5f",
             "gridcolor": "white",
             "linecolor": "white",
             "minorgridcolor": "white",
             "startlinecolor": "#2a3f5f"
            },
            "type": "carpet"
           }
          ],
          "choropleth": [
           {
            "colorbar": {
             "outlinewidth": 0,
             "ticks": ""
            },
            "type": "choropleth"
           }
          ],
          "contour": [
           {
            "colorbar": {
             "outlinewidth": 0,
             "ticks": ""
            },
            "colorscale": [
             [
              0,
              "#0d0887"
             ],
             [
              0.1111111111111111,
              "#46039f"
             ],
             [
              0.2222222222222222,
              "#7201a8"
             ],
             [
              0.3333333333333333,
              "#9c179e"
             ],
             [
              0.4444444444444444,
              "#bd3786"
             ],
             [
              0.5555555555555556,
              "#d8576b"
             ],
             [
              0.6666666666666666,
              "#ed7953"
             ],
             [
              0.7777777777777778,
              "#fb9f3a"
             ],
             [
              0.8888888888888888,
              "#fdca26"
             ],
             [
              1,
              "#f0f921"
             ]
            ],
            "type": "contour"
           }
          ],
          "contourcarpet": [
           {
            "colorbar": {
             "outlinewidth": 0,
             "ticks": ""
            },
            "type": "contourcarpet"
           }
          ],
          "heatmap": [
           {
            "colorbar": {
             "outlinewidth": 0,
             "ticks": ""
            },
            "colorscale": [
             [
              0,
              "#0d0887"
             ],
             [
              0.1111111111111111,
              "#46039f"
             ],
             [
              0.2222222222222222,
              "#7201a8"
             ],
             [
              0.3333333333333333,
              "#9c179e"
             ],
             [
              0.4444444444444444,
              "#bd3786"
             ],
             [
              0.5555555555555556,
              "#d8576b"
             ],
             [
              0.6666666666666666,
              "#ed7953"
             ],
             [
              0.7777777777777778,
              "#fb9f3a"
             ],
             [
              0.8888888888888888,
              "#fdca26"
             ],
             [
              1,
              "#f0f921"
             ]
            ],
            "type": "heatmap"
           }
          ],
          "heatmapgl": [
           {
            "colorbar": {
             "outlinewidth": 0,
             "ticks": ""
            },
            "colorscale": [
             [
              0,
              "#0d0887"
             ],
             [
              0.1111111111111111,
              "#46039f"
             ],
             [
              0.2222222222222222,
              "#7201a8"
             ],
             [
              0.3333333333333333,
              "#9c179e"
             ],
             [
              0.4444444444444444,
              "#bd3786"
             ],
             [
              0.5555555555555556,
              "#d8576b"
             ],
             [
              0.6666666666666666,
              "#ed7953"
             ],
             [
              0.7777777777777778,
              "#fb9f3a"
             ],
             [
              0.8888888888888888,
              "#fdca26"
             ],
             [
              1,
              "#f0f921"
             ]
            ],
            "type": "heatmapgl"
           }
          ],
          "histogram": [
           {
            "marker": {
             "pattern": {
              "fillmode": "overlay",
              "size": 10,
              "solidity": 0.2
             }
            },
            "type": "histogram"
           }
          ],
          "histogram2d": [
           {
            "colorbar": {
             "outlinewidth": 0,
             "ticks": ""
            },
            "colorscale": [
             [
              0,
              "#0d0887"
             ],
             [
              0.1111111111111111,
              "#46039f"
             ],
             [
              0.2222222222222222,
              "#7201a8"
             ],
             [
              0.3333333333333333,
              "#9c179e"
             ],
             [
              0.4444444444444444,
              "#bd3786"
             ],
             [
              0.5555555555555556,
              "#d8576b"
             ],
             [
              0.6666666666666666,
              "#ed7953"
             ],
             [
              0.7777777777777778,
              "#fb9f3a"
             ],
             [
              0.8888888888888888,
              "#fdca26"
             ],
             [
              1,
              "#f0f921"
             ]
            ],
            "type": "histogram2d"
           }
          ],
          "histogram2dcontour": [
           {
            "colorbar": {
             "outlinewidth": 0,
             "ticks": ""
            },
            "colorscale": [
             [
              0,
              "#0d0887"
             ],
             [
              0.1111111111111111,
              "#46039f"
             ],
             [
              0.2222222222222222,
              "#7201a8"
             ],
             [
              0.3333333333333333,
              "#9c179e"
             ],
             [
              0.4444444444444444,
              "#bd3786"
             ],
             [
              0.5555555555555556,
              "#d8576b"
             ],
             [
              0.6666666666666666,
              "#ed7953"
             ],
             [
              0.7777777777777778,
              "#fb9f3a"
             ],
             [
              0.8888888888888888,
              "#fdca26"
             ],
             [
              1,
              "#f0f921"
             ]
            ],
            "type": "histogram2dcontour"
           }
          ],
          "mesh3d": [
           {
            "colorbar": {
             "outlinewidth": 0,
             "ticks": ""
            },
            "type": "mesh3d"
           }
          ],
          "parcoords": [
           {
            "line": {
             "colorbar": {
              "outlinewidth": 0,
              "ticks": ""
             }
            },
            "type": "parcoords"
           }
          ],
          "pie": [
           {
            "automargin": true,
            "type": "pie"
           }
          ],
          "scatter": [
           {
            "fillpattern": {
             "fillmode": "overlay",
             "size": 10,
             "solidity": 0.2
            },
            "type": "scatter"
           }
          ],
          "scatter3d": [
           {
            "line": {
             "colorbar": {
              "outlinewidth": 0,
              "ticks": ""
             }
            },
            "marker": {
             "colorbar": {
              "outlinewidth": 0,
              "ticks": ""
             }
            },
            "type": "scatter3d"
           }
          ],
          "scattercarpet": [
           {
            "marker": {
             "colorbar": {
              "outlinewidth": 0,
              "ticks": ""
             }
            },
            "type": "scattercarpet"
           }
          ],
          "scattergeo": [
           {
            "marker": {
             "colorbar": {
              "outlinewidth": 0,
              "ticks": ""
             }
            },
            "type": "scattergeo"
           }
          ],
          "scattergl": [
           {
            "marker": {
             "colorbar": {
              "outlinewidth": 0,
              "ticks": ""
             }
            },
            "type": "scattergl"
           }
          ],
          "scattermapbox": [
           {
            "marker": {
             "colorbar": {
              "outlinewidth": 0,
              "ticks": ""
             }
            },
            "type": "scattermapbox"
           }
          ],
          "scatterpolar": [
           {
            "marker": {
             "colorbar": {
              "outlinewidth": 0,
              "ticks": ""
             }
            },
            "type": "scatterpolar"
           }
          ],
          "scatterpolargl": [
           {
            "marker": {
             "colorbar": {
              "outlinewidth": 0,
              "ticks": ""
             }
            },
            "type": "scatterpolargl"
           }
          ],
          "scatterternary": [
           {
            "marker": {
             "colorbar": {
              "outlinewidth": 0,
              "ticks": ""
             }
            },
            "type": "scatterternary"
           }
          ],
          "surface": [
           {
            "colorbar": {
             "outlinewidth": 0,
             "ticks": ""
            },
            "colorscale": [
             [
              0,
              "#0d0887"
             ],
             [
              0.1111111111111111,
              "#46039f"
             ],
             [
              0.2222222222222222,
              "#7201a8"
             ],
             [
              0.3333333333333333,
              "#9c179e"
             ],
             [
              0.4444444444444444,
              "#bd3786"
             ],
             [
              0.5555555555555556,
              "#d8576b"
             ],
             [
              0.6666666666666666,
              "#ed7953"
             ],
             [
              0.7777777777777778,
              "#fb9f3a"
             ],
             [
              0.8888888888888888,
              "#fdca26"
             ],
             [
              1,
              "#f0f921"
             ]
            ],
            "type": "surface"
           }
          ],
          "table": [
           {
            "cells": {
             "fill": {
              "color": "#EBF0F8"
             },
             "line": {
              "color": "white"
             }
            },
            "header": {
             "fill": {
              "color": "#C8D4E3"
             },
             "line": {
              "color": "white"
             }
            },
            "type": "table"
           }
          ]
         },
         "layout": {
          "annotationdefaults": {
           "arrowcolor": "#2a3f5f",
           "arrowhead": 0,
           "arrowwidth": 1
          },
          "autotypenumbers": "strict",
          "coloraxis": {
           "colorbar": {
            "outlinewidth": 0,
            "ticks": ""
           }
          },
          "colorscale": {
           "diverging": [
            [
             0,
             "#8e0152"
            ],
            [
             0.1,
             "#c51b7d"
            ],
            [
             0.2,
             "#de77ae"
            ],
            [
             0.3,
             "#f1b6da"
            ],
            [
             0.4,
             "#fde0ef"
            ],
            [
             0.5,
             "#f7f7f7"
            ],
            [
             0.6,
             "#e6f5d0"
            ],
            [
             0.7,
             "#b8e186"
            ],
            [
             0.8,
             "#7fbc41"
            ],
            [
             0.9,
             "#4d9221"
            ],
            [
             1,
             "#276419"
            ]
           ],
           "sequential": [
            [
             0,
             "#0d0887"
            ],
            [
             0.1111111111111111,
             "#46039f"
            ],
            [
             0.2222222222222222,
             "#7201a8"
            ],
            [
             0.3333333333333333,
             "#9c179e"
            ],
            [
             0.4444444444444444,
             "#bd3786"
            ],
            [
             0.5555555555555556,
             "#d8576b"
            ],
            [
             0.6666666666666666,
             "#ed7953"
            ],
            [
             0.7777777777777778,
             "#fb9f3a"
            ],
            [
             0.8888888888888888,
             "#fdca26"
            ],
            [
             1,
             "#f0f921"
            ]
           ],
           "sequentialminus": [
            [
             0,
             "#0d0887"
            ],
            [
             0.1111111111111111,
             "#46039f"
            ],
            [
             0.2222222222222222,
             "#7201a8"
            ],
            [
             0.3333333333333333,
             "#9c179e"
            ],
            [
             0.4444444444444444,
             "#bd3786"
            ],
            [
             0.5555555555555556,
             "#d8576b"
            ],
            [
             0.6666666666666666,
             "#ed7953"
            ],
            [
             0.7777777777777778,
             "#fb9f3a"
            ],
            [
             0.8888888888888888,
             "#fdca26"
            ],
            [
             1,
             "#f0f921"
            ]
           ]
          },
          "colorway": [
           "#636efa",
           "#EF553B",
           "#00cc96",
           "#ab63fa",
           "#FFA15A",
           "#19d3f3",
           "#FF6692",
           "#B6E880",
           "#FF97FF",
           "#FECB52"
          ],
          "font": {
           "color": "#2a3f5f"
          },
          "geo": {
           "bgcolor": "white",
           "lakecolor": "white",
           "landcolor": "#E5ECF6",
           "showlakes": true,
           "showland": true,
           "subunitcolor": "white"
          },
          "hoverlabel": {
           "align": "left"
          },
          "hovermode": "closest",
          "mapbox": {
           "style": "light"
          },
          "paper_bgcolor": "white",
          "plot_bgcolor": "#E5ECF6",
          "polar": {
           "angularaxis": {
            "gridcolor": "white",
            "linecolor": "white",
            "ticks": ""
           },
           "bgcolor": "#E5ECF6",
           "radialaxis": {
            "gridcolor": "white",
            "linecolor": "white",
            "ticks": ""
           }
          },
          "scene": {
           "xaxis": {
            "backgroundcolor": "#E5ECF6",
            "gridcolor": "white",
            "gridwidth": 2,
            "linecolor": "white",
            "showbackground": true,
            "ticks": "",
            "zerolinecolor": "white"
           },
           "yaxis": {
            "backgroundcolor": "#E5ECF6",
            "gridcolor": "white",
            "gridwidth": 2,
            "linecolor": "white",
            "showbackground": true,
            "ticks": "",
            "zerolinecolor": "white"
           },
           "zaxis": {
            "backgroundcolor": "#E5ECF6",
            "gridcolor": "white",
            "gridwidth": 2,
            "linecolor": "white",
            "showbackground": true,
            "ticks": "",
            "zerolinecolor": "white"
           }
          },
          "shapedefaults": {
           "line": {
            "color": "#2a3f5f"
           }
          },
          "ternary": {
           "aaxis": {
            "gridcolor": "white",
            "linecolor": "white",
            "ticks": ""
           },
           "baxis": {
            "gridcolor": "white",
            "linecolor": "white",
            "ticks": ""
           },
           "bgcolor": "#E5ECF6",
           "caxis": {
            "gridcolor": "white",
            "linecolor": "white",
            "ticks": ""
           }
          },
          "title": {
           "x": 0.05
          },
          "xaxis": {
           "automargin": true,
           "gridcolor": "white",
           "linecolor": "white",
           "ticks": "",
           "title": {
            "standoff": 15
           },
           "zerolinecolor": "white",
           "zerolinewidth": 2
          },
          "yaxis": {
           "automargin": true,
           "gridcolor": "white",
           "linecolor": "white",
           "ticks": "",
           "title": {
            "standoff": 15
           },
           "zerolinecolor": "white",
           "zerolinewidth": 2
          }
         }
        },
        "title": {
         "text": "风险收益图"
        },
        "xaxis": {
         "title": {
          "text": "风险值"
         }
        }
       }
      },
      "text/html": [
       "<div>                            <div id=\"326c9cdf-c04f-4a66-a90e-baf911939065\" class=\"plotly-graph-div\" style=\"height:525px; width:100%;\"></div>            <script type=\"text/javascript\">                require([\"plotly\"], function(Plotly) {                    window.PLOTLYENV=window.PLOTLYENV || {};                                    if (document.getElementById(\"326c9cdf-c04f-4a66-a90e-baf911939065\")) {                    Plotly.newPlot(                        \"326c9cdf-c04f-4a66-a90e-baf911939065\",                        [{\"marker\":{\"size\":12,\"symbol\":\"star\"},\"mode\":\"markers\",\"x\":[0.001,0.002,0.003,0.004,0.005,0.006,0.007,0.008,0.009000000000000001,0.010000000000000002,0.011000000000000003,0.012000000000000004,0.013000000000000005,0.014000000000000005,0.015000000000000006,0.016000000000000007,0.017000000000000008,0.01800000000000001,0.01900000000000001,0.02000000000000001,0.02100000000000001,0.022000000000000013,0.023000000000000013,0.024000000000000014,0.025000000000000015,0.026000000000000016,0.027000000000000017,0.028000000000000018,0.02900000000000002,0.03000000000000002,0.03100000000000002,0.03200000000000002,0.03300000000000002,0.03400000000000002,0.035000000000000024,0.036000000000000025,0.037000000000000026,0.03800000000000003,0.03900000000000003,0.04000000000000003,0.04100000000000003,0.04200000000000003,0.04300000000000003,0.04400000000000003,0.04500000000000003,0.046000000000000034,0.047000000000000035,0.048000000000000036,0.04900000000000004,0.05000000000000004],\"y\":[755.2761072261072,1010.5522144522145,1265.8283216783216,1521.104428904429,1776.3805361305363,2019.0763977806232,2066.074263764405,2112.433811802233,2155.196172248804,2190.196078431373,2222.9411764705883,2255.686274509804,2288.43137254902,2321.1764705882356,2353.921568627451,2386.666666666667,2419.4117647058824,2452.1568627450984,2484.9019607843143,2517.6470588235297,2550.392156862745,2583.1372549019616,2615.8823529411775,2648.627450980393,2673.2673267326736,2673.2673267326736,2673.2673267326736,2673.2673267326736,2673.2673267326736,2673.2673267326736,2673.2673267326736,2673.2673267326736,2673.2673267326736,2673.2673267326736,2673.2673267326736,2673.2673267326736,2673.2673267326736,2673.2673267326736,2673.2673267326736,2673.2673267326736,2673.2673267326736,2673.2673267326736,2673.2673267326736,2673.2673267326736,2673.2673267326736,2673.2673267326736,2673.2673267326736,2673.2673267326736,2673.2673267326736,2673.2673267326736],\"type\":\"scatter\"}],                        {\"template\":{\"data\":{\"histogram2dcontour\":[{\"type\":\"histogram2dcontour\",\"colorbar\":{\"outlinewidth\":0,\"ticks\":\"\"},\"colorscale\":[[0.0,\"#0d0887\"],[0.1111111111111111,\"#46039f\"],[0.2222222222222222,\"#7201a8\"],[0.3333333333333333,\"#9c179e\"],[0.4444444444444444,\"#bd3786\"],[0.5555555555555556,\"#d8576b\"],[0.6666666666666666,\"#ed7953\"],[0.7777777777777778,\"#fb9f3a\"],[0.8888888888888888,\"#fdca26\"],[1.0,\"#f0f921\"]]}],\"choropleth\":[{\"type\":\"choropleth\",\"colorbar\":{\"outlinewidth\":0,\"ticks\":\"\"}}],\"histogram2d\":[{\"type\":\"histogram2d\",\"colorbar\":{\"outlinewidth\":0,\"ticks\":\"\"},\"colorscale\":[[0.0,\"#0d0887\"],[0.1111111111111111,\"#46039f\"],[0.2222222222222222,\"#7201a8\"],[0.3333333333333333,\"#9c179e\"],[0.4444444444444444,\"#bd3786\"],[0.5555555555555556,\"#d8576b\"],[0.6666666666666666,\"#ed7953\"],[0.7777777777777778,\"#fb9f3a\"],[0.8888888888888888,\"#fdca26\"],[1.0,\"#f0f921\"]]}],\"heatmap\":[{\"type\":\"heatmap\",\"colorbar\":{\"outlinewidth\":0,\"ticks\":\"\"},\"colorscale\":[[0.0,\"#0d0887\"],[0.1111111111111111,\"#46039f\"],[0.2222222222222222,\"#7201a8\"],[0.3333333333333333,\"#9c179e\"],[0.4444444444444444,\"#bd3786\"],[0.5555555555555556,\"#d8576b\"],[0.6666666666666666,\"#ed7953\"],[0.7777777777777778,\"#fb9f3a\"],[0.8888888888888888,\"#fdca26\"],[1.0,\"#f0f921\"]]}],\"heatmapgl\":[{\"type\":\"heatmapgl\",\"colorbar\":{\"outlinewidth\":0,\"ticks\":\"\"},\"colorscale\":[[0.0,\"#0d0887\"],[0.1111111111111111,\"#46039f\"],[0.2222222222222222,\"#7201a8\"],[0.3333333333333333,\"#9c179e\"],[0.4444444444444444,\"#bd3786\"],[0.5555555555555556,\"#d8576b\"],[0.6666666666666666,\"#ed7953\"],[0.7777777777777778,\"#fb9f3a\"],[0.8888888888888888,\"#fdca26\"],[1.0,\"#f0f921\"]]}],\"contourcarpet\":[{\"type\":\"contourcarpet\",\"colorbar\":{\"outlinewidth\":0,\"ticks\":\"\"}}],\"contour\":[{\"type\":\"contour\",\"colorbar\":{\"outlinewidth\":0,\"ticks\":\"\"},\"colorscale\":[[0.0,\"#0d0887\"],[0.1111111111111111,\"#46039f\"],[0.2222222222222222,\"#7201a8\"],[0.3333333333333333,\"#9c179e\"],[0.4444444444444444,\"#bd3786\"],[0.5555555555555556,\"#d8576b\"],[0.6666666666666666,\"#ed7953\"],[0.7777777777777778,\"#fb9f3a\"],[0.8888888888888888,\"#fdca26\"],[1.0,\"#f0f921\"]]}],\"surface\":[{\"type\":\"surface\",\"colorbar\":{\"outlinewidth\":0,\"ticks\":\"\"},\"colorscale\":[[0.0,\"#0d0887\"],[0.1111111111111111,\"#46039f\"],[0.2222222222222222,\"#7201a8\"],[0.3333333333333333,\"#9c179e\"],[0.4444444444444444,\"#bd3786\"],[0.5555555555555556,\"#d8576b\"],[0.6666666666666666,\"#ed7953\"],[0.7777777777777778,\"#fb9f3a\"],[0.8888888888888888,\"#fdca26\"],[1.0,\"#f0f921\"]]}],\"mesh3d\":[{\"type\":\"mesh3d\",\"colorbar\":{\"outlinewidth\":0,\"ticks\":\"\"}}],\"scatter\":[{\"fillpattern\":{\"fillmode\":\"overlay\",\"size\":10,\"solidity\":0.2},\"type\":\"scatter\"}],\"parcoords\":[{\"type\":\"parcoords\",\"line\":{\"colorbar\":{\"outlinewidth\":0,\"ticks\":\"\"}}}],\"scatterpolargl\":[{\"type\":\"scatterpolargl\",\"marker\":{\"colorbar\":{\"outlinewidth\":0,\"ticks\":\"\"}}}],\"bar\":[{\"error_x\":{\"color\":\"#2a3f5f\"},\"error_y\":{\"color\":\"#2a3f5f\"},\"marker\":{\"line\":{\"color\":\"#E5ECF6\",\"width\":0.5},\"pattern\":{\"fillmode\":\"overlay\",\"size\":10,\"solidity\":0.2}},\"type\":\"bar\"}],\"scattergeo\":[{\"type\":\"scattergeo\",\"marker\":{\"colorbar\":{\"outlinewidth\":0,\"ticks\":\"\"}}}],\"scatterpolar\":[{\"type\":\"scatterpolar\",\"marker\":{\"colorbar\":{\"outlinewidth\":0,\"ticks\":\"\"}}}],\"histogram\":[{\"marker\":{\"pattern\":{\"fillmode\":\"overlay\",\"size\":10,\"solidity\":0.2}},\"type\":\"histogram\"}],\"scattergl\":[{\"type\":\"scattergl\",\"marker\":{\"colorbar\":{\"outlinewidth\":0,\"ticks\":\"\"}}}],\"scatter3d\":[{\"type\":\"scatter3d\",\"line\":{\"colorbar\":{\"outlinewidth\":0,\"ticks\":\"\"}},\"marker\":{\"colorbar\":{\"outlinewidth\":0,\"ticks\":\"\"}}}],\"scattermapbox\":[{\"type\":\"scattermapbox\",\"marker\":{\"colorbar\":{\"outlinewidth\":0,\"ticks\":\"\"}}}],\"scatterternary\":[{\"type\":\"scatterternary\",\"marker\":{\"colorbar\":{\"outlinewidth\":0,\"ticks\":\"\"}}}],\"scattercarpet\":[{\"type\":\"scattercarpet\",\"marker\":{\"colorbar\":{\"outlinewidth\":0,\"ticks\":\"\"}}}],\"carpet\":[{\"aaxis\":{\"endlinecolor\":\"#2a3f5f\",\"gridcolor\":\"white\",\"linecolor\":\"white\",\"minorgridcolor\":\"white\",\"startlinecolor\":\"#2a3f5f\"},\"baxis\":{\"endlinecolor\":\"#2a3f5f\",\"gridcolor\":\"white\",\"linecolor\":\"white\",\"minorgridcolor\":\"white\",\"startlinecolor\":\"#2a3f5f\"},\"type\":\"carpet\"}],\"table\":[{\"cells\":{\"fill\":{\"color\":\"#EBF0F8\"},\"line\":{\"color\":\"white\"}},\"header\":{\"fill\":{\"color\":\"#C8D4E3\"},\"line\":{\"color\":\"white\"}},\"type\":\"table\"}],\"barpolar\":[{\"marker\":{\"line\":{\"color\":\"#E5ECF6\",\"width\":0.5},\"pattern\":{\"fillmode\":\"overlay\",\"size\":10,\"solidity\":0.2}},\"type\":\"barpolar\"}],\"pie\":[{\"automargin\":true,\"type\":\"pie\"}]},\"layout\":{\"autotypenumbers\":\"strict\",\"colorway\":[\"#636efa\",\"#EF553B\",\"#00cc96\",\"#ab63fa\",\"#FFA15A\",\"#19d3f3\",\"#FF6692\",\"#B6E880\",\"#FF97FF\",\"#FECB52\"],\"font\":{\"color\":\"#2a3f5f\"},\"hovermode\":\"closest\",\"hoverlabel\":{\"align\":\"left\"},\"paper_bgcolor\":\"white\",\"plot_bgcolor\":\"#E5ECF6\",\"polar\":{\"bgcolor\":\"#E5ECF6\",\"angularaxis\":{\"gridcolor\":\"white\",\"linecolor\":\"white\",\"ticks\":\"\"},\"radialaxis\":{\"gridcolor\":\"white\",\"linecolor\":\"white\",\"ticks\":\"\"}},\"ternary\":{\"bgcolor\":\"#E5ECF6\",\"aaxis\":{\"gridcolor\":\"white\",\"linecolor\":\"white\",\"ticks\":\"\"},\"baxis\":{\"gridcolor\":\"white\",\"linecolor\":\"white\",\"ticks\":\"\"},\"caxis\":{\"gridcolor\":\"white\",\"linecolor\":\"white\",\"ticks\":\"\"}},\"coloraxis\":{\"colorbar\":{\"outlinewidth\":0,\"ticks\":\"\"}},\"colorscale\":{\"sequential\":[[0.0,\"#0d0887\"],[0.1111111111111111,\"#46039f\"],[0.2222222222222222,\"#7201a8\"],[0.3333333333333333,\"#9c179e\"],[0.4444444444444444,\"#bd3786\"],[0.5555555555555556,\"#d8576b\"],[0.6666666666666666,\"#ed7953\"],[0.7777777777777778,\"#fb9f3a\"],[0.8888888888888888,\"#fdca26\"],[1.0,\"#f0f921\"]],\"sequentialminus\":[[0.0,\"#0d0887\"],[0.1111111111111111,\"#46039f\"],[0.2222222222222222,\"#7201a8\"],[0.3333333333333333,\"#9c179e\"],[0.4444444444444444,\"#bd3786\"],[0.5555555555555556,\"#d8576b\"],[0.6666666666666666,\"#ed7953\"],[0.7777777777777778,\"#fb9f3a\"],[0.8888888888888888,\"#fdca26\"],[1.0,\"#f0f921\"]],\"diverging\":[[0,\"#8e0152\"],[0.1,\"#c51b7d\"],[0.2,\"#de77ae\"],[0.3,\"#f1b6da\"],[0.4,\"#fde0ef\"],[0.5,\"#f7f7f7\"],[0.6,\"#e6f5d0\"],[0.7,\"#b8e186\"],[0.8,\"#7fbc41\"],[0.9,\"#4d9221\"],[1,\"#276419\"]]},\"xaxis\":{\"gridcolor\":\"white\",\"linecolor\":\"white\",\"ticks\":\"\",\"title\":{\"standoff\":15},\"zerolinecolor\":\"white\",\"automargin\":true,\"zerolinewidth\":2},\"yaxis\":{\"gridcolor\":\"white\",\"linecolor\":\"white\",\"ticks\":\"\",\"title\":{\"standoff\":15},\"zerolinecolor\":\"white\",\"automargin\":true,\"zerolinewidth\":2},\"scene\":{\"xaxis\":{\"backgroundcolor\":\"#E5ECF6\",\"gridcolor\":\"white\",\"linecolor\":\"white\",\"showbackground\":true,\"ticks\":\"\",\"zerolinecolor\":\"white\",\"gridwidth\":2},\"yaxis\":{\"backgroundcolor\":\"#E5ECF6\",\"gridcolor\":\"white\",\"linecolor\":\"white\",\"showbackground\":true,\"ticks\":\"\",\"zerolinecolor\":\"white\",\"gridwidth\":2},\"zaxis\":{\"backgroundcolor\":\"#E5ECF6\",\"gridcolor\":\"white\",\"linecolor\":\"white\",\"showbackground\":true,\"ticks\":\"\",\"zerolinecolor\":\"white\",\"gridwidth\":2}},\"shapedefaults\":{\"line\":{\"color\":\"#2a3f5f\"}},\"annotationdefaults\":{\"arrowcolor\":\"#2a3f5f\",\"arrowhead\":0,\"arrowwidth\":1},\"geo\":{\"bgcolor\":\"white\",\"landcolor\":\"#E5ECF6\",\"subunitcolor\":\"white\",\"showland\":true,\"showlakes\":true,\"lakecolor\":\"white\"},\"title\":{\"x\":0.05},\"mapbox\":{\"style\":\"light\"}}},\"title\":{\"text\":\"\\u98ce\\u9669\\u6536\\u76ca\\u56fe\"},\"xaxis\":{\"title\":{\"text\":\"\\u98ce\\u9669\\u503c\"}},\"font\":{\"size\":18}},                        {\"responsive\": true}                    ).then(function(){\n",
       "                            \n",
       "var gd = document.getElementById('326c9cdf-c04f-4a66-a90e-baf911939065');\n",
       "var x = new MutationObserver(function (mutations, observer) {{\n",
       "        var display = window.getComputedStyle(gd).display;\n",
       "        if (!display || display === 'none') {{\n",
       "            console.log([gd, 'removed!']);\n",
       "            Plotly.purge(gd);\n",
       "            observer.disconnect();\n",
       "        }}\n",
       "}});\n",
       "\n",
       "// Listen for the removal of the full notebook cells\n",
       "var notebookContainer = gd.closest('#notebook-container');\n",
       "if (notebookContainer) {{\n",
       "    x.observe(notebookContainer, {childList: true});\n",
       "}}\n",
       "\n",
       "// Listen for the clearing of the current output cell\n",
       "var outputEl = gd.closest('.output');\n",
       "if (outputEl) {{\n",
       "    x.observe(outputEl, {childList: true});\n",
       "}}\n",
       "\n",
       "                        })                };                });            </script>        </div>"
      ]
     },
     "metadata": {},
     "output_type": "display_data"
    }
   ],
   "source": [
    "import numpy as np\n",
    "\n",
    "from gurobipy import *\n",
    "import plotly.graph_objects as go\n",
    "\n",
    "R_P = np.array([0.05, 0.27, 0.19, 0.185, 0.185])  #利率减去费率\n",
    "C = np.array([1, 1.01, 1.02, 1.045, 1.065])  #购买资产费用\n",
    "M = 10000\n",
    "Q = np.array([0, 0.025, 0.015, 0.055, 0.026])  #最大损失率约束\n",
    "a = 0\n",
    "aa = []\n",
    "result = []\n",
    "while a <= 0.05:\n",
    "    a += 0.001\n",
    "    m = Model()\n",
    "    x = m.addMVar(5, name='x')\n",
    "    m.update()\n",
    "    m.setObjective(R_P @ x, GRB.MAXIMIZE)\n",
    "    m.addConstr(C @ x == M) #即线性求和的约束\n",
    "    m.addConstrs(x[i] * Q[i] <= a * M for i in range(1, len(Q))) #没有包含为0的约束\n",
    "    m.setParam('OutputFlag', 0)  #关闭求解信息\n",
    "    try:\n",
    "        m.optimize()\n",
    "    except:\n",
    "        marker = dict(symbol='star', size=12)\n",
    "    result.append(m.ObjVal)\n",
    "    aa.append(a)\n",
    "\n",
    "fig = go.Figure()\n",
    "fig.add_trace(\n",
    "    go.Scatter(x=aa,\n",
    "               y=result,\n",
    "               marker=dict(symbol='star', size=12),\n",
    "               mode='markers'))\n",
    "\n",
    "fig.update_layout(title_text='风险收益图', xaxis_title_text='风险值')\n",
    "fig.update_layout(font=dict(size=18, ))\n",
    "fig"
   ]
  },
  {
   "attachments": {},
   "cell_type": "markdown",
   "id": "5c05d243",
   "metadata": {},
   "source": [
    "## 比赛项目排序问题\n",
    "已知：40名运动员对14个项目的报名情况，给出项目排序方案，尽可能<span class=\"girk\">不让运动员连续参加两场比赛</span>\n",
    "\n",
    "**思路**\n",
    "1. 抽象编码：参考onehot编码，运动员参加比赛可视为1，不参加视为0，给出40x14的报名矩阵\n",
    "2. 目标肯定是最小化连续参加两场比赛的运动员数，下一步目标就是找出变量衡量这个数字\n",
    "3. 连续参加两场比赛，就是两场比赛都有参加的运动员，即同时参加两个比赛的人数\n",
    "4. 每个比赛都可以衡量和另一个比赛的共同人数，可以考虑构造完全无向赋权图，权数就是两个比赛的共同参加人数\n",
    "5. 目标是求一个安排，即遍历所有项目，最终转化为TSP问题"
   ]
  },
  {
   "cell_type": "code",
   "execution_count": 2,
   "id": "222b9722",
   "metadata": {
    "ExecuteTime": {
     "end_time": "2023-05-27T07:23:05.949702Z",
     "start_time": "2023-05-27T07:23:05.774531Z"
    }
   },
   "outputs": [
    {
     "name": "stdout",
     "output_type": "stream",
     "text": [
      "2.0\n",
      "[['项目1', '项目5'], ['项目2', '项目14'], ['项目3', '项目6'], ['项目4', '项目8'], ['项目5', '项目7'], ['项目6', '项目2'], ['项目7', '项目11'], ['项目8', '项目1'], ['项目9', '项目4'], ['项目10', '项目13'], ['项目11', '项目3'], ['项目12', '项目10'], ['项目13', '项目15'], ['项目14', '项目12'], ['项目15', '项目9']]\n"
     ]
    }
   ],
   "source": [
    "import pandas as pd\n",
    "import numpy as np\n",
    "from gurobipy import *\n",
    "\n",
    "data = pd.read_excel(\n",
    "    r\"D:\\jupyter\\大数据建模\\Python数学建模算法与应用程序和数据\\04第4章  线性规划和整数规划模型\\data4_13_1.xlsx\",\n",
    "    header=None)\n",
    "data.fillna(0, inplace=True)  #缺失值替换为0\n",
    "A = data.values\n",
    "m, n = A.shape  #获得行数和列数\n",
    "\n",
    "\n",
    "def get_weight_matrix():\n",
    "    weight_martix = np.zeros((n + 1, n + 1))  #创建15x15的邻接矩阵，引入虚拟变量第15项目\n",
    "    for i in range(n):  #获取同时参加两项目的人数\n",
    "        for j in range(n):\n",
    "            if i != j:\n",
    "                weight_martix[i, j] = sum(A[:, i] * A[:, j])\n",
    "    return weight_martix\n",
    "weight_martix=get_weight_matrix()\n",
    "'''已经拿到了邻接矩阵，可以开始TSP问题求解'''\n",
    "def tsp(matrix):\n",
    "    n=len(matrix)\n",
    "    N=range(n)\n",
    "    m = Model('tsp')\n",
    "    # 变量设置\n",
    "    x = m.addVars(n, n, vtype=GRB.BINARY, name='x')\n",
    "    u = m.addVars(n, vtype=GRB.CONTINUOUS, name='u')\n",
    "\n",
    "    # 目标函数\n",
    "    m.setObjective(quicksum(matrix[i,j] * x[i, j] for i in N for j in N if i!=j), GRB.MINIMIZE)\n",
    "\n",
    "    # 添加限制\n",
    "    m.addConstrs(quicksum(x[i, j] for i in N ) == 1 for j in N)\n",
    "    m.addConstrs(quicksum(x[i, j] for j in N) == 1 for i in N)\n",
    "    m.addConstrs(\n",
    "        (u[i] - u[j] + n * x[i, j]) <=  n- 1 for i in range(1,n) for j in range(1, n) )\n",
    "\n",
    "    m.setParam('OutputFlag', 0) #关闭求解信息 \n",
    "    m.optimize()\n",
    "\n",
    "    print(m.ObjVal)\n",
    "\n",
    "    # 找到那些是1的变量\n",
    "    result = []\n",
    "    for i in range(n):\n",
    "        for j in range(n):\n",
    "            if x[i, j].X == 1:\n",
    "                result.append([f'项目{i+1}', f'项目{j+1}'])\n",
    "    print(result)\n",
    "tsp(weight_martix)"
   ]
  },
  {
   "attachments": {},
   "cell_type": "markdown",
   "id": "f7087bfd",
   "metadata": {},
   "source": [
    "# VRP问题"
   ]
  },
  {
   "attachments": {},
   "cell_type": "markdown",
   "id": "79a2fa53",
   "metadata": {},
   "source": [
    "## CVRP问题：容量限制的VRP问题\n",
    "**符号说明**\n",
    "* n客户点数量\n",
    "* N客户点集合（不包括depot）\n",
    "* V顶点集，包括客户和depot\n",
    "* A:边集\n",
    "* $c_{ij}$从i到j地的费用\n",
    "* Q：车辆的容量限制\n",
    "* $q_i$客户i的书本需求\n",
    "\n",
    "**目标函数**\n",
    "$\\sum\\limits_{i,j\\in V}c_{ij}x{_{ij}}$最小化耗费（可以是时间或距离）\n",
    "<br>**约束**\n",
    "<br>1. 非depot的客户点出流为一次，即只能从这里去往别处一次：<br>$\\sum\\limits_{j\\in V,i\\not = j}x_{ij}=1\\quad\\forall i\\in N$ \n",
    "<br>2. 非depot的客户点入流为一次，即只能到访这里一次：<br>$\\sum\\limits_{i\\in V,i\\not = j}x_{ij}=1\\quad\\forall j\\in N$ \n",
    "<br>3.载流约束，只有从i到j点，才能拿上j点的货物并更新当前载重\n",
    "<br>$if\\quad x_{ij}=1\\Longrightarrow u_i+q_j=u_j\\quad i,j\\in A,i,j\\not=0$\n",
    "<br>载重约束：在i处的载重必须小于限重，大于在i处的需求（因为到了i地必定拿上了i地的货物）\n",
    "<br>4. $q_i\\le u_i\\le Q\\quad i\\in N$"
   ]
  },
  {
   "cell_type": "code",
   "execution_count": 6,
   "id": "bc236a18",
   "metadata": {
    "ExecuteTime": {
     "end_time": "2023-05-27T07:44:14.553791Z",
     "start_time": "2023-05-27T07:44:14.047741Z"
    }
   },
   "outputs": [
    {
     "name": "stdout",
     "output_type": "stream",
     "text": [
      "1150.164180577383\n"
     ]
    },
    {
     "data": {
      "image/png": "[encoded data removed]",
      "text/plain": [
       "<Figure size 640x480 with 1 Axes>"
      ]
     },
     "metadata": {},
     "output_type": "display_data"
    }
   ],
   "source": [
    "import numpy as np\n",
    "from gurobipy import *\n",
    "import matplotlib.pyplot as plt\n",
    "#创建虚拟,0为depot\n",
    "def cvrp(n):\n",
    "    n=n #客户数量\n",
    "    np.random.seed(10)\n",
    "    xc=np.random.randint(1,100,n+1) #创建depot和客户的坐标，depot索引为0\n",
    "    yc=np.random.randint(1,100,n+1)\n",
    "    N=list(range(1,n+1))\n",
    "    V=list(range(0,n+1))\n",
    "    A=[(i,j) for i in V for j in V if i!=j] #创建所有相连边集合（可以对应上距离）\n",
    "    C={(i,j):np.hypot(xc[i]-xc[j],yc[i]-yc[j]) for i,j in A}#从i到j的耗费\n",
    "    Q=10 #车载重限制\n",
    "    q={i:np.random.randint(1,6) for i in N} #为客户生成随机需求\n",
    "    m=Model('CVRP')\n",
    "    x=m.addVars(A,vtype=GRB.BINARY,name='x')\n",
    "    u=m.addVars(N,vtype=GRB.CONTINUOUS,name='u')\n",
    "    m.setObjective(quicksum(x[i,j]*C[i,j] for i,j in A),GRB.MINIMIZE)\n",
    "    #注意这里python的多维字典，元组作为键时是支持C[i,j]这样来访问值的，相当于C[(i,j)]\n",
    "    m.addConstrs(quicksum(x[i,j] for i in V if i!=j)==1 for j in N )\n",
    "    m.addConstrs(quicksum(x[i,j] for j in V if i!=j)==1 for i in N)\n",
    "    m.addConstrs((x[i,j]==1)>>((u[i]+q[j])==u[j]) for i,j in A if j!=0 and i!=0)#条件式约束，具体见上面介绍单约束部分\n",
    "    m.addConstrs(q[i]<=u[i] for i in N)\n",
    "    m.addConstrs(u[i]<=Q for i in N)\n",
    "    m.update()\n",
    "    #求解模型\n",
    "\n",
    "    m.setParam('OutputFlag', 0) #关闭求解信息 \n",
    "    m.setParam('TimeLimit',30)\n",
    "    m.optimize()\n",
    "    print(m.ObjVal)\n",
    "    arcs=[i for i in A if x[i].x>0.9] #不要==1，因为会因为计算机问题导致0.99999等\n",
    "    for index,[i,j] in enumerate(arcs):\n",
    "        plt.plot([xc[i],xc[j]],[yc[i],yc[j]],c='r')\n",
    "    plt.plot(xc[0],yc[0],c='g',marker='s')\n",
    "    plt.scatter(xc,yc,c='b')\n",
    "    plt.show()\n"
   ]
  },
  {
   "cell_type": "code",
   "execution_count": 26,
   "id": "ce7275d5",
   "metadata": {},
   "outputs": [],
   "source": [
    "n=10 #客户数量\n",
    "np.random.seed(10)\n",
    "xc=np.random.randint(1,100,n+1) #创建depot和客户的坐标，depot索引为0\n",
    "yc=np.random.randint(1,100,n+1)\n",
    "N=list(range(1,n+1))\n",
    "V=list(range(0,n+1))\n",
    "A=[(i,j) for i in V for j in V if i!=j] #创建所有相连边集合（可以对应上距离）\n",
    "C={(i,j):np.hypot(xc[i]-xc[j],yc[i]-yc[j]) for i,j in A}#从i到j的耗费\n",
    "Q=10 #车载重限制\n",
    "q={i:np.random.randint(1,6) for i in N} #为客户生成随机需求\n",
    "m=Model('CVRP')\n",
    "x1=m.addVars(A,vtype=GRB.BINARY,name='x1')\n",
    "x2=m.addVars(A,vtype=GRB.BINARY,name='x2')\n",
    "u=m.addVars(N,vtype=GRB.CONTINUOUS,name='u')\n",
    "\n",
    "m.update()"
   ]
  },
  {
   "attachments": {},
   "cell_type": "markdown",
   "id": "07e22b15",
   "metadata": {},
   "source": [
    "# 期末作业"
   ]
  },
  {
   "cell_type": "code",
   "execution_count": 2,
   "id": "671b1a61",
   "metadata": {},
   "outputs": [
    {
     "data": {
      "image/png": "[encoded data removed]",
      "text/plain": [
       "<Figure size 2500x1458 with 1 Axes>"
      ]
     },
     "metadata": {},
     "output_type": "display_data"
    }
   ],
   "source": [
    "import pandas as pd\n",
    "import networkx as nx\n",
    "import numpy as np\n",
    "import matplotlib.pyplot as plt\n",
    "import ctypes\n",
    "\n",
    "import tkinter as tk\n",
    "from matplotlib.backends.backend_tkagg import FigureCanvasTkAgg\n",
    "# Implement the default Matplotlib key bindings.\n",
    "\n",
    "\n",
    "\n",
    "\n",
    "'''数据读取'''\n",
    "\n",
    "'''读取书本数据'''\n",
    "books=pd.read_excel('楼宇信息.xlsx',index_col=0,header=0)\n",
    "'''读取矩阵数据'''\n",
    "adj=pd.read_excel('adjacent.xlsx',header=0,index_col=0)\n",
    "distance=pd.read_excel('distance_matrix.xlsx',header=0,index_col=0)\n",
    "\n",
    "\n",
    "\n",
    "\n",
    "def modify_graph():\n",
    "    '''返回设定好的图,请传入dataframe'''\n",
    "    #转换为numpy\n",
    "    adj_matrix=adj.to_numpy()\n",
    "    #adj[np.where(adj == INF)] = 0\n",
    "\n",
    "    # 创建无向赋权图对象\n",
    "    G = nx.Graph()\n",
    "\n",
    "    # 添加节点\n",
    "    for index in adj.index:\n",
    "        G.add_node(index,name=index,back=books.loc[index][0],borrow=books.loc[index][1],state='idle') #默认每个点是空闲的\n",
    "\n",
    "    # 添加边\n",
    "    rows, cols = np.where(adj > 0)  #返回满足条件的行和列数组索引位置\n",
    "    for i in range(len(rows)): #转化成对应的楼宇名称\n",
    "        G.add_edge(adj.index[rows[i]], adj.index[cols[i]], \n",
    "                   weight=adj_matrix[rows[i], cols[i]])#指明连接哪两个节点和边权,注意传入的是索引，索引指向对应的行列标签\n",
    "    return G\n",
    "G=modify_graph()\n",
    "\n",
    "'''画图工具,传入图对象'''\n",
    "def get_node_pos(adj):\n",
    "    locations = {}\n",
    "    x = 0 \n",
    "    y = 5\n",
    "    for i in adj.index:\n",
    "        locations[i] = (x,y)\n",
    "        if y > 0:\n",
    "            y -= 1\n",
    "        else:\n",
    "            x += 1\n",
    "            y = 5\n",
    "    return locations\n",
    "\n",
    "# 绘制无向赋权图部分\n",
    "#创建matplotlib子图承载图\n",
    "fig = plt.figure(figsize=(25,25))\n",
    "#设置坐标位置\n",
    "\n",
    "pos_node=get_node_pos(adj)\n",
    "#设置画图项\n",
    "nx.draw_networkx_nodes(G, pos=pos_node, node_size=8000, node_color='skyblue')\n",
    "nx.draw_networkx_nodes(G,nodelist=['左充电站','右充电站'],pos={'左充电站':(0,5),'右充电站':(5,0)}, node_size=8000, node_color='red')\n",
    "nx.draw_networkx_nodes(G,nodelist=['图书馆'],pos={'图书馆':(2,2)}, node_size=8000, node_color='green')\n",
    "\n",
    "nx.draw_networkx_edges(G, pos=pos_node, edge_color='gray', alpha=0.8,width=2)\n",
    "#获取边的属性，设置给label作为显示在边上的权\n",
    "labels_edge = nx.get_edge_attributes(G, 'weight')\n",
    "#边的label\n",
    "nx.draw_networkx_edge_labels(G, pos_node, edge_labels=labels_edge, font_size=16)\n",
    "#画结点的label\n",
    "labels_node={i:f'{i}({G._node[i][\"back\"]},{G._node[i][\"borrow\"]})' for i in adj.index }\n",
    "nx.draw_networkx_labels(G, pos_node, font_size=14, font_family='SimHei',labels=labels_node)\n",
    "\n",
    "\n",
    "def test():\n",
    "    try:\n",
    "        nx.draw_networkx_nodes(G,nodelist=['图书馆'],pos={'图书馆':(2,2)}, node_size=8000, node_color=etn.get())\n",
    "        canvas.draw()\n",
    "    except:\n",
    "        pass\n",
    "\n",
    "\n",
    "# 绘制图形\n",
    "\n",
    "# 创建GUI\n",
    "root = tk.Tk()\n",
    "var1=0\n",
    "ctypes.windll.shcore.SetProcessDpiAwareness(1) #解决缩放问题\n",
    "button_quit = tk.Button(master=root, text=\"Quit\", command=root.destroy)\n",
    "button_quit.pack(side=tk.TOP)\n",
    "canvas = FigureCanvasTkAgg(fig, root)  \n",
    "canvas.draw() #更新画布 此后都要更新画布\n",
    "btn=tk.Button(root,text='kick',command=test)\n",
    "btn.pack()\n",
    "etn=tk.Entry(root,textvariable=var1)\n",
    "etn.pack()\n",
    "canvas.get_tk_widget().pack(side=tk.TOP, fill=tk.BOTH, expand=1)\n",
    "\n",
    "\n",
    "root.mainloop()\n",
    "\n",
    "\n"
   ]
  },
  {
   "cell_type": "markdown",
   "id": "3a78c742",
   "metadata": {},
   "source": [
    "### 第一问"
   ]
  },
  {
   "cell_type": "code",
   "execution_count": 210,
   "id": "afaa478e",
   "metadata": {},
   "outputs": [
    {
     "name": "stdout",
     "output_type": "stream",
     "text": [
      "机器人A在时间0.00h,路径['右充电站', '兰亭楼', '沉璧楼', '绿竹楼', '三岔路口', '图书馆'],借还流:[0, 2, 6, 2, 0, 0]\n",
      "机器人B在时间0.00h,路径['左充电站', '四美楼', '芳邻楼', '凌云楼', '高洁楼', '图书馆'],借还流:[0, 3, 4, 2, 1, 0]\n",
      "机器人A在时间0.27h,路径['图书馆', '景明楼', '绿竹楼', '汀兰楼', '俊采楼', '三岔路口', '图书馆'],借还流:[0, 6, 3, 1, 0, 0, 0]\n",
      "机器人B在时间0.44h,路径['图书馆', '高洁楼', '南溟楼', '长洲楼', '清风楼', '景明楼', '图书馆'],借还流:[0, 3, 3, 4, 0, 0, 0]\n",
      "机器人A在时间0.75h,路径['图书馆', '景明楼', '绿竹楼', '汀兰楼', '长风楼', '东隅楼', '俊采楼', '三岔路口', '图书馆'],借还流:[0, 0, 0, 5, 5, 0, 0, 0, 0]\n",
      "机器人B在时间0.92h,路径['图书馆', '十字路口', '朱华楼', '流丹楼', '俊采楼', '三岔路口', '图书馆'],借还流:[0, 0, 2, 8, 0, 0, 0]\n",
      "机器人A在时间1.35h,路径['图书馆', '十字路口', '临川楼', '耸翠楼', '朱华楼', '流丹楼', '俊采楼', '三岔路口', '图书馆'],借还流:[0, 0, 3, 4, 0, 0, 3, 0, 0]\n",
      "机器人B在时间1.60h,路径['图书馆', '高洁楼', '凌云楼', '远山楼', '重霄楼', '长洲楼', '清风楼', '景明楼', '图书馆'],借还流:[0, 0, 0, 5, 5, 0, 0, 0, 0]\n",
      "机器人B在时间2.27h,路径['图书馆', '十字路口', '临川楼', '秋水楼', '北辰楼', '弥津楼', '映雪楼', '高洁楼', '图书馆'],借还流:[0, 0, 0, 4, 6, 0, 0, 0, 0]\n",
      "机器人A在时间2.35h,路径['图书馆', '十字路口', '朱华楼', '耸翠楼', '朝晖楼', '星耀楼', '万千楼', '东隅楼', '俊采楼', '三岔路口', '图书馆'],借还流:[0, 0, 0, 0, 3, 4, 2, 1, 0, 0, 0]\n",
      "机器人B在时间3.13h,路径['图书馆', '十字路口', '朱华楼', '耸翠楼', '皓月楼', '秋水楼', '北辰楼', '弥津楼', '映雪楼', '高洁楼', '图书馆'],借还流:[0, 0, 0, 0, 7, 0, 0, 3, 0, 0, 0]\n",
      "机器人A在时间3.51h,路径['图书馆', '十字路口', '映雪楼', '弥津楼', '四美楼', '芳邻楼', '凌云楼', '远山楼', '重霄楼', '长洲楼', '清风楼', '景明楼', '图书馆'],借还流:[0, 0, 2, 2, 0, 0, 0, 0, 1, 2, 2, 0, 0]\n",
      "机器人B在时间4.12h,路径['图书馆', '十字路口', '朱华楼', '耸翠楼', '朝晖楼', '雅望楼', '郁青楼', '星耀楼', '万千楼', '东隅楼', '俊采楼', '三岔路口', '图书馆'],借还流:[0, 0, 0, 0, 0, 5, 3, 0, 0, 0, 0, 0, 0]\n",
      "机器人A开始返程,当前时间为4.89,返程路径为['图书馆', '三岔路口', '绿竹楼', '沉璧楼', '兰亭楼', '右充电站']\n",
      "机器人B开始返程,当前时间为5.08,返程路径为['图书馆', '高洁楼', '凌云楼', '芳邻楼', '四美楼', '左充电站']\n",
      "机器人A成功完成图书馆的委托到达基地右充电站\n",
      "机器人B成功完成图书馆的委托到达基地左充电站\n",
      "A用时:5.16,B用时:5.52\n"
     ]
    }
   ],
   "source": [
    "import pandas as pd\n",
    "import networkx as nx\n",
    "import numpy as np\n",
    "import matplotlib.pyplot as plt\n",
    "'''数据读取'''\n",
    "\n",
    "'''读取书本数据'''\n",
    "books=pd.read_excel('楼宇信息.xlsx',index_col=0,header=0)\n",
    "'''读取矩阵数据'''\n",
    "adj=pd.read_excel('adjacent.xlsx',header=0,index_col=0)\n",
    "distance=pd.read_excel('distance_matrix.xlsx',header=0,index_col=0)\n",
    "\n",
    "\n",
    "\n",
    "\n",
    "def modify_graph():\n",
    "    '''返回设定好的图,请传入dataframe'''\n",
    "    #转换为numpy\n",
    "    adj_matrix=adj.to_numpy()\n",
    "    #adj[np.where(adj == INF)] = 0\n",
    "\n",
    "    # 创建无向赋权图对象\n",
    "    G = nx.Graph()\n",
    "\n",
    "    # 添加节点\n",
    "    for index in adj.index:\n",
    "        G.add_node(index,name=index,back=books.loc[index][0],borrow=books.loc[index][1],state='idle') #默认每个点是空闲的\n",
    "\n",
    "    # 添加边\n",
    "    rows, cols = np.where(adj > 0)  #返回满足条件的行和列数组索引位置\n",
    "    for i in range(len(rows)): #转化成对应的楼宇名称\n",
    "        G.add_edge(adj.index[rows[i]], adj.index[cols[i]], \n",
    "                   weight=adj_matrix[rows[i], cols[i]])#指明连接哪两个节点和边权,注意传入的是索引，索引指向对应的行列标签\n",
    "    return G\n",
    "\n",
    "def graph_draw(G):\n",
    "    '''画图工具,传入图对象'''\n",
    "    def get_node_pos(adj):\n",
    "        locations = {}\n",
    "        x = 0 \n",
    "        y = 5\n",
    "        for i in adj.index:\n",
    "            locations[i] = (x,y)\n",
    "            if y > 0:\n",
    "                y -= 1\n",
    "            else:\n",
    "                x += 1\n",
    "                y = 5\n",
    "        return locations\n",
    "    \n",
    "    # 绘制无向赋权图部分\n",
    "    #创建matplotlib子图承载图\n",
    "    plt.figure(figsize=(25,25))\n",
    "    plt.subplot(111)\n",
    "    #设置坐标位置\n",
    "    \n",
    "    pos_node=get_node_pos(adj)\n",
    "    #设置画图项\n",
    "    nx.draw_networkx_nodes(G, pos=pos_node, node_size=10000, node_color='skyblue')\n",
    "    nx.draw_networkx_nodes(G,nodelist=['左充电站','右充电站'],pos={'左充电站':(0,5),'右充电站':(5,0)}, node_size=10000, node_color='red')\n",
    "    nx.draw_networkx_nodes(G,nodelist=['图书馆'],pos={'图书馆':(2,2)}, node_size=10000, node_color='green')\n",
    "    \n",
    "    nx.draw_networkx_edges(G, pos=pos_node, edge_color='gray', alpha=0.8,width=2)\n",
    "    #获取边的属性，设置给label作为显示在边上的权\n",
    "    labels_edge = nx.get_edge_attributes(G, 'weight')\n",
    "    #边的label\n",
    "    nx.draw_networkx_edge_labels(G, pos_node, edge_labels=labels_edge, font_size=19)\n",
    "    #画结点的label\n",
    "    labels_node={i:f'{i}({G._node[i][\"back\"]},{G._node[i][\"borrow\"]})' for i in adj.index }\n",
    "    nx.draw_networkx_labels(G, pos_node, font_size=14, font_family='SimHei',labels=labels_node)\n",
    "    plt.axis('off')\n",
    "\n",
    "    #绘制给定的最短路图\n",
    "    plt.show()\n",
    "\n",
    "def get_cost_matrix():\n",
    "    G=modify_graph()\n",
    "    pd.DataFrame(nx.floyd_warshall_numpy(G)).to_excel('distance_matrix.xlsx')\n",
    "class Robot:\n",
    "    def __init__(self,velocity:int,capacity:int,name:str,base:str,constraint=12) -> None:\n",
    "        self.name=name#机器人编号\n",
    "        self.velocity=velocity #机器人速度\n",
    "        self.capacity=capacity #机器人容量\n",
    "        self.mode='start' #机器人当前模式 有三种，出发start（充电站去图书馆）,working,decision决策等待,返回retrieve（返回充电站）,complete完成工作\n",
    "        self.location=base #机器人当前位置\n",
    "        self.base=base #机器人驻地\n",
    "        self.time_remain=0 #到达下个节点前的时间\n",
    "        self.load=0 #机器人当前负载\n",
    "        self.mintime=distance/self.velocity #机器人已知的每个点到每个点的最短用时\n",
    "        self.mission_queue=[] #任务队列\n",
    "        self.timer=0 #计时器\n",
    "        self.constraint=constraint #步数限制，防止能力过低的机器人跑太远 (似乎一点用都没有)\n",
    "        self.run() #初始化\n",
    "        \n",
    "    def get_mintime(self,u,v):\n",
    "        '''获取起点u到终点v的最短时间'''\n",
    "        return self.mintime.at[u,v]\n",
    "    \n",
    "    def calculator(self,route:list):\n",
    "        '''计算一条路径上的流,时间\n",
    "        流的计算为：流出+流入（收到还书是流入，发放是流出）\n",
    "        example:['右充电站', '兰亭楼', '沉璧楼']\n",
    "        '''\n",
    "        load=self.load #一个虚拟的load，用来决策\n",
    "        flow_per_path=[0] #第一个地点没有流\n",
    "        time=0 #计算这段路的时间\n",
    "        for index,building in enumerate(route):\n",
    "            if index==0: #跳过第一个地点，因为决策处只发生在图书馆或充电站\n",
    "                continue\n",
    "            if load+map.get_building_back(building)>self.capacity and load!=self.capacity:\n",
    "                #超重但没有满载，例如当前负重9，该地还书需求3，则只能带走1\n",
    "                flow_per_path.append(self.capacity-load)\n",
    "              \n",
    "                \n",
    "                time+=self.get_mintime(route[index-1],route[index])\n",
    "                \n",
    "                # print(f'机器人{self.name}在地点{building}因超过载重上限，仅拿取了{self.capacity-load}的货物')\n",
    "                load=self.capacity\n",
    "                continue\n",
    "            if load==self.capacity: #满载的情况，没有流\n",
    "                flow_per_path.append(0)\n",
    "                time+=self.get_mintime(route[index-1],route[index])\n",
    "                continue\n",
    "            flow_per_path.append(map.get_building_back(building))\n",
    "            load+=map.get_building_back(building)\n",
    "            time+=self.get_mintime(route[index-1],route[index])\n",
    "            # print(f'机器人{self.name}在地点{building}成功拿取货物{map.get_building_back(building)}')\n",
    "        \n",
    "\n",
    "        return sum(flow_per_path),time,flow_per_path\n",
    "        \n",
    "\n",
    "    \n",
    "    def route_chooser(self,start,end):\n",
    "        '''根据当前地点,利用拓展树返回一条最优路径队列'''\n",
    "        index=1\n",
    "        best=[0,1000]\n",
    "        bestroute=[]\n",
    "        \n",
    "        while True:\n",
    "        \n",
    "            all_route=[i for i in list(nx.all_simple_paths(map.G,start,end,cutoff=index)) if len(i)==index+1] #走n步会有n+1个节点\n",
    "            if not all_route: #如果路是空的\n",
    "                index+=1\n",
    "                continue\n",
    "            for i in all_route:\n",
    "                current=self.calculator(i) #记录当前路径得分\n",
    "                if current[0]>best[0]:\n",
    "                    best=current\n",
    "                    bestroute=i\n",
    "                elif current[0]==best[0] and current[1]<best[1]:\n",
    "                    best=current\n",
    "                    bestroute=i \n",
    "                    \n",
    "                   \n",
    "               \n",
    "            index+=1\n",
    "            if index>=self.constraint: #如已经到达循环上限 \n",
    "                # self.mission_queue=bestroute #设置任务队列\n",
    "                return bestroute\n",
    "    \n",
    "    def route_modifier(self,flow_per_path): #将无流区域截断，选择最短路回来,避免tsp问题\n",
    "        '''在外部调用，对queue进行改变'''\n",
    "        index=0\n",
    "        for i in range(len(flow_per_path)):\n",
    "            if flow_per_path[-(i+1)]!=0:\n",
    "                index=i\n",
    "                break\n",
    "        self.mission_queue=self.mission_queue[:-index] #截断后面是0的部分比如[0,0,5,5,0,0]->[0,0,5,5]\n",
    "        last_location=self.mission_queue.pop()\n",
    "        self.mission_queue+=nx.shortest_path(map.G,last_location,'图书馆',weight='weight') #更新道路\n",
    "\n",
    "    \n",
    "    def move(self): #按预设路径行动一步,更新时间\n",
    "        \n",
    "        if len(self.mission_queue)>1:\n",
    "            self.location=self.mission_queue.pop(0) #初始点位\n",
    "            self.time_remain=self.get_mintime(self.location,self.mission_queue[0]) #计算到下一点的时间\n",
    "        else: #此时长度为1，是终点\n",
    "            self.location=self.mission_queue.pop() #终点\n",
    "            if self.mode=='retrieve' and self.location==self.base:\n",
    "                self.mode='complete'\n",
    "                print(f'{self.name}成功完成图书馆的委托到达基地{self.base}')\n",
    "                return \n",
    "            self.mode='decision' #设为决策\n",
    "            self.run() #开启下轮行动\n",
    "\n",
    "\n",
    "    def tick(self): #模拟时间流逝\n",
    "        if self.mode!='complete':\n",
    "            if self.time_remain>0: #正在路上\n",
    "                self.time_remain-=Map.time_interval #模拟运动\n",
    "                self.timer+=Map.time_interval\n",
    "            if self.time_remain<=0:\n",
    "                self.move() #开始下轮运动\n",
    "        else:\n",
    "            return \n",
    "\n",
    "\n",
    "        \n",
    "\n",
    "    def run(self): #让机器人开始新一轮行动\n",
    "        if map.check_complete():\n",
    "            self.mode='retrieve'\n",
    "            self.return_base()\n",
    "            \n",
    "        else:   \n",
    "            if self.mode=='start':\n",
    "                self.mode='working'\n",
    "                self.mission_queue=self.route_chooser(self.base,'图书馆')\n",
    "                self.update_map()\n",
    "                self.move()# 行动一步\n",
    "            elif self.mode=='decision': #决策阶段\n",
    "                self.mode='working'\n",
    "                self.load=0 #卸货\n",
    "                best=[0,1000]\n",
    "                self.mission_queue=[]\n",
    "                for i in G['图书馆']: #会巡视四周四个点，返回一条最优回路,优先选最大流里的最小时间\n",
    "                    route=self.route_chooser(i,'图书馆')\n",
    "                    current=self.calculator(route)\n",
    "                    if current[0]>best[0]:\n",
    "                        best=current\n",
    "                        self.mission_queue=route\n",
    "                    elif current[0]==best[0] and current[1]<best[1]:\n",
    "                        best=current\n",
    "                        self.mission_queue=route      \n",
    "\n",
    "                self.mission_queue=[self.location]+self.mission_queue #将当前地点加入到任务队列\n",
    "                self.update_map() #决策完成后，更新地图信息让其他机器人得知这条路被自己预支\n",
    "                self.move() #行动一步\n",
    "            \n",
    "    def return_base(self):\n",
    "        '''决策阶段检测到地图已经没有书,进行返回'''\n",
    "        self.mission_queue=nx.dijkstra_path(G,'图书馆',self.base,weight='weight')\n",
    "        print(f'{self.name}开始返程,当前时间为{self.timer:.2f},返程路径为{self.mission_queue}')\n",
    "        self.move()\n",
    "        \n",
    "    def update_map(self): #一旦完成决策，立即更新地图信息\n",
    "        flow_per_path=self.calculator(self.mission_queue)[2]\n",
    "        #修正道路\n",
    "        # if self.location!=self.base: #起始时不修正\n",
    "        #     self.route_modifier(flow_per_path)\n",
    "           \n",
    "        for buliding,book_num in zip(self.mission_queue,flow_per_path):\n",
    "            map.set_building_back(buliding,map.get_building_back(buliding)-book_num) #提取预支这部分的书目\n",
    "        print(f'{self.name}在时间{self.timer:.2f}h,路径{self.mission_queue},借还流:{flow_per_path}')\n",
    "\n",
    "class Map:\n",
    "    time_interval=0.0001 #时间流逝步长\n",
    "    def __init__(self,G) -> None:\n",
    "        '''允许通过地图类修改全局地图'''\n",
    "        self.remainbook=True #是否全地图都没书\n",
    "        self.G=G\n",
    "\n",
    "    def get_building_back(self,building):\n",
    "        '''获取某地点的还书信息'''\n",
    "        return self.G.nodes[building]['back']\n",
    "    def get_building_borrow(self,building):\n",
    "        '''获取某地点的借书信息'''\n",
    "        return self.G.nodes[building]['borrow']\n",
    "    def set_building_back(self,building,number):\n",
    "        '''设置地点的还书信息'''\n",
    "        self.G.nodes[building]['back']=number\n",
    "    def set_building_borrow(self,building,number):\n",
    "        '''获取某地点的还书信息'''\n",
    "        self.G.nodes[building]['borrow']=number\n",
    "\n",
    "    def check_complete(self):\n",
    "        '''检查是否已经空'''\n",
    "        label=nx.get_node_attributes(G,'back')\n",
    "        return all(i==0 for i in label.values()) #检查是否全为0\n",
    " \n",
    "G=modify_graph()\n",
    "map=Map(G)\n",
    "A=Robot(8,10,'机器人A','右充电站',12)\n",
    "B=Robot(10,10,'机器人B','左充电站',12)\n",
    "for i in range(500000):\n",
    "    for j in [A,B]:\n",
    "        j.tick()   \n",
    "    if A.mode=='complete' and B.mode=='complete':\n",
    "        print(f'A用时:{A.timer:.2f},B用时:{B.timer:.2f}')\n",
    "        break\n",
    "    \n",
    "    "
   ]
  },
  {
   "attachments": {},
   "cell_type": "markdown",
   "id": "1d85a921",
   "metadata": {},
   "source": [
    "思路：\n",
    "1. 机器人只在图书馆就做好了系列决策，并提前在地图上表明，这部分书目已经被我拿取。后面其实就是完成路线而已\n",
    "2. 机器人关心的是这条路上的流，希望的是流最大而时间最小，譬如同样能拿取10本书的路，它会偏好更短的那条\n",
    "3. 机器人只在图书馆做决策，除了初始阶段\n",
    "4. 由于必须踏出一步，机器人会斟酌四个方向，并选择道路\n",
    "5. 广度优先搜索：像雷达一样不断扩展节点，寻找最大流并且最小路径的回路。\n",
    "\n",
    "并且采用动态规划的思想，每次保存最优路，下次搜索就可以与当前最优路进行对比\n",
    "$\\max\\{r_{i-1},\\max r_{i}\\}$\n",
    "\n",
    "**解决第二问**\n",
    "1. 由于同时得拿书和发书，必须决定出图书馆时携带基本\n",
    "2. 依然采用流的思想，计算一条路的流，不过这里要进行一个参数搜索，从带0本到带到上限本，比较0-10的最优路，选择携带的数目\n",
    "    * 最大流上限一定是20，即我发完了所有书且带回了所有书\n",
    "    * 举个例子，我带了10本书，先发3本带回2本（流5），再发6本带回5本（流11），最后发1本带回3本（流4），程序中总是先发放后回收\n",
    "    * 我得设计计算最大可能流，即应该哪些步骤发，哪些步骤收，不一定要边发边收\n",
    "3. 存储方式必须改成load={'delivery':,'pickup':}的格式，分别表示要发放的书目与带回的书目，且必须有约束sum(load.values())<=负载\n",
    "4. 回程策略必须改变，比如我身上带着书，拿发完后检查没有要归还的书就能直接回去了，否则还要还完才能回去\n",
    "4. 可以的话，尽量把程序改成两问都适用，不过是第一问中的图信息进行更改而已\n",
    "5. 尝试可视化"
   ]
  },
  {
   "cell_type": "code",
   "execution_count": 8,
   "id": "89032fc4",
   "metadata": {},
   "outputs": [
    {
     "name": "stdout",
     "output_type": "stream",
     "text": [
      "机器人A在时间0.00h,路径['右充电站', '兰亭楼', '沉璧楼', '绿竹楼', '三岔路口', '图书馆'],借还流:[[0, 0], [0, 2], [0, 6], [0, 2], [0, 0], [0, 0]]\n",
      "机器人B在时间0.00h,路径['左充电站', '四美楼', '芳邻楼', '凌云楼', '高洁楼', '图书馆'],借还流:[[0, 0], [0, 3], [0, 4], [0, 2], [0, 1], [0, 0]]\n",
      "机器人A在时间0.27h,路径['图书馆', '三岔路口', '俊采楼', '东隅楼', '万千楼', '流丹楼', '朱华楼', '耸翠楼', '皓月楼', '秋水楼', '临川楼', '十字路口', '图书馆'],借还流:[[0, 0], [0, 0], [0, 0], [0, 0], [2, 2], [0, 0], [3, 2], [0, 1], [2, 2], [3, 3], [0, 0], [0, 0], [0, 0]]\n",
      "机器人B在时间0.44h,路径['图书馆', '三岔路口', '俊采楼', '汀兰楼', '绿竹楼', '景明楼', '南溟楼', '远山楼', '凌云楼', '高洁楼', '图书馆'],借还流:[[0, 0], [0, 0], [0, 3], [2, 4], [0, 0], [0, 0], [1, 1], [2, 2], [0, 0], [0, 0], [0, 0]]\n",
      "机器人B在时间1.34h,路径['图书馆', '十字路口', '临川楼', '秋水楼', '北辰楼', '弥津楼', '四美楼', '芳邻楼', '凌云楼', '高洁楼', '图书馆'],借还流:[[0, 0], [0, 0], [0, 3], [0, 1], [2, 5], [0, 0], [0, 0], [1, 0], [0, 0], [0, 1], [0, 0]]\n",
      "机器人A在时间1.51h,路径['图书馆', '三岔路口', '俊采楼', '东隅楼', '万千楼', '星耀楼', '郁青楼', '雅望楼', '朝晖楼', '耸翠楼', '朱华楼', '十字路口', '图书馆'],借还流:[[0, 0], [0, 0], [0, 0], [0, 1], [0, 0], [0, 4], [0, 3], [2, 2], [0, 0], [0, 0], [0, 0], [0, 0], [0, 0]]\n",
      "机器人B在时间2.27h,路径['图书馆', '高洁楼', '南溟楼', '景明楼', '绿竹楼', '三岔路口', '图书馆'],借还流:[[0, 0], [0, 2], [0, 2], [0, 6], [0, 0], [0, 0], [0, 0]]\n",
      "机器人B在时间2.66h,路径['图书馆', '高洁楼', '南溟楼', '长洲楼', '清风楼', '沉璧楼', '绿竹楼', '三岔路口', '图书馆'],借还流:[[0, 0], [0, 0], [0, 0], [0, 6], [0, 2], [0, 0], [0, 2], [0, 0], [0, 0]]\n",
      "机器人A在时间2.71h,路径['图书馆', '高洁楼', '凌云楼', '远山楼', '重霄楼', '长洲楼', '清风楼', '沉璧楼', '绿竹楼', '三岔路口', '图书馆'],借还流:[[0, 0], [0, 0], [0, 0], [0, 3], [0, 6], [0, 0], [0, 0], [0, 0], [0, 1], [0, 0], [0, 0]]\n",
      "机器人B在时间3.18h,路径['图书馆', '高洁楼', '映雪楼', '十字路口', '朱华楼', '流丹楼', '俊采楼', '三岔路口', '图书馆'],借还流:[[0, 0], [0, 0], [0, 2], [0, 0], [0, 0], [0, 8], [0, 0], [0, 0], [0, 0]]\n",
      "机器人A在时间3.60h,路径['图书馆', '高洁楼', '映雪楼', '弥津楼', '北辰楼', '秋水楼', '皓月楼', '耸翠楼', '朱华楼', '十字路口', '图书馆'],借还流:[[0, 0], [0, 0], [0, 0], [0, 5], [0, 1], [0, 0], [0, 4], [0, 0], [0, 0], [0, 0], [0, 0]]\n",
      "机器人B在时间4.02h,路径['图书馆', '十字路口', '朱华楼', '耸翠楼', '皓月楼', '雅望楼', '朝晖楼', '流丹楼', '俊采楼', '三岔路口', '图书馆'],借还流:[[0, 0], [0, 0], [0, 0], [0, 3], [0, 1], [0, 3], [0, 3], [0, 0], [0, 0], [0, 0], [0, 0]]\n",
      "机器人A在时间4.84h,路径['图书馆', '高洁楼', '南溟楼', '景明楼', '绿竹楼', '汀兰楼', '长风楼', '东隅楼', '俊采楼', '三岔路口', '图书馆'],借还流:[[0, 0], [0, 0], [0, 0], [0, 0], [0, 0], [0, 2], [0, 5], [0, 0], [0, 0], [0, 0], [0, 0]]\n",
      "机器人B开始返程,当前时间为5.05,返程路径为['图书馆', '高洁楼', '凌云楼', '芳邻楼', '四美楼', '左充电站']\n",
      "机器人B成功完成图书馆的委托到达基地左充电站\n",
      "机器人A开始返程,当前时间为5.66,返程路径为['图书馆', '三岔路口', '绿竹楼', '沉璧楼', '兰亭楼', '右充电站']\n",
      "机器人A成功完成图书馆的委托到达基地右充电站\n",
      "A用时:5.94,B用时:5.49\n"
     ]
    }
   ],
   "source": [
    "import pandas as pd\n",
    "import networkx as nx\n",
    "import numpy as np\n",
    "import matplotlib.pyplot as plt\n",
    "'''数据读取'''\n",
    "\n",
    "'''读取书本数据'''\n",
    "books=pd.read_excel('楼宇信息.xlsx',index_col=0,header=0)\n",
    "'''读取矩阵数据'''\n",
    "adj=pd.read_excel('adjacent.xlsx',header=0,index_col=0)\n",
    "distance=pd.read_excel('distance_matrix.xlsx',header=0,index_col=0)\n",
    "\n",
    "\n",
    "\n",
    "\n",
    "def modify_graph():\n",
    "    '''返回设定好的图,请传入dataframe'''\n",
    "    #转换为numpy\n",
    "    adj_matrix=adj.to_numpy()\n",
    "    #adj[np.where(adj == INF)] = 0\n",
    "\n",
    "    # 创建无向赋权图对象\n",
    "    G = nx.Graph()\n",
    "\n",
    "    # 添加节点\n",
    "    for index in adj.index:\n",
    "        G.add_node(index,name=index,back=books.loc[index][0],borrow=books.loc[index][1],state='idle') #默认每个点是空闲的\n",
    "\n",
    "    # 添加边\n",
    "    rows, cols = np.where(adj > 0)  #返回满足条件的行和列数组索引位置\n",
    "    for i in range(len(rows)): #转化成对应的楼宇名称\n",
    "        G.add_edge(adj.index[rows[i]], adj.index[cols[i]], \n",
    "                   weight=adj_matrix[rows[i], cols[i]])#指明连接哪两个节点和边权,注意传入的是索引，索引指向对应的行列标签\n",
    "    return G\n",
    "\n",
    "def graph_draw(G):\n",
    "    '''画图工具,传入图对象'''\n",
    "    def get_node_pos(adj):\n",
    "        locations = {}\n",
    "        x = 0 \n",
    "        y = 5\n",
    "        for i in adj.index:\n",
    "            locations[i] = (x,y)\n",
    "            if y > 0:\n",
    "                y -= 1\n",
    "            else:\n",
    "                x += 1\n",
    "                y = 5\n",
    "        return locations\n",
    "    \n",
    "    # 绘制无向赋权图部分\n",
    "    #创建matplotlib子图承载图\n",
    "    plt.figure(figsize=(25,25))\n",
    "    plt.subplot(111)\n",
    "    #设置坐标位置\n",
    "    \n",
    "    pos_node=get_node_pos(adj)\n",
    "    #设置画图项\n",
    "    nx.draw_networkx_nodes(G, pos=pos_node, node_size=10000, node_color='skyblue')\n",
    "    nx.draw_networkx_nodes(G,nodelist=['左充电站','右充电站'],pos={'左充电站':(0,5),'右充电站':(5,0)}, node_size=10000, node_color='red')\n",
    "    nx.draw_networkx_nodes(G,nodelist=['图书馆'],pos={'图书馆':(2,2)}, node_size=10000, node_color='green')\n",
    "    \n",
    "    nx.draw_networkx_edges(G, pos=pos_node, edge_color='gray', alpha=0.8,width=2)\n",
    "    #获取边的属性，设置给label作为显示在边上的权\n",
    "    labels_edge = nx.get_edge_attributes(G, 'weight')\n",
    "    #边的label\n",
    "    nx.draw_networkx_edge_labels(G, pos_node, edge_labels=labels_edge, font_size=19)\n",
    "    #画结点的label\n",
    "    labels_node={i:f'{i}({G._node[i][\"back\"]},{G._node[i][\"borrow\"]})' for i in adj.index }\n",
    "    nx.draw_networkx_labels(G, pos_node, font_size=14, font_family='SimHei',labels=labels_node)\n",
    "    plt.axis('off')\n",
    "\n",
    "    #绘制给定的最短路图\n",
    "    plt.show()\n",
    "\n",
    "def get_cost_matrix():\n",
    "    G=modify_graph()\n",
    "    pd.DataFrame(nx.floyd_warshall_numpy(G)).to_excel('distance_matrix.xlsx')\n",
    "class Robot:\n",
    "    def __init__(self,velocity:int,capacity:int,name:str,base:str,constraint=12) -> None:\n",
    "        self.name=name#机器人编号\n",
    "        self.velocity=velocity #机器人速度\n",
    "        self.capacity=capacity #机器人容量\n",
    "        self.mode='start' #机器人当前模式 有三种，出发start（充电站去图书馆）,working,decision决策等待,返回retrieve（返回充电站）,complete完成工作\n",
    "        self.location=base #机器人当前位置\n",
    "        self.base=base #机器人驻地\n",
    "        self.time_remain=0 #到达下个节点前的时间\n",
    "        self.load=0 #机器人当前负载\n",
    "        self.mintime=distance/self.velocity #机器人已知的每个点到每个点的最短用时\n",
    "        self.mission_queue=[] #任务队列\n",
    "        self.timer=0 #计时器\n",
    "        self.constraint=constraint #步数限制，防止能力过低的机器人跑太远 (似乎一点用都没有)\n",
    "        self.run() #初始化\n",
    "        \n",
    "    def get_mintime(self,u,v):\n",
    "        '''获取起点u到终点v的最短时间'''\n",
    "        return self.mintime.at[u,v]\n",
    "    \n",
    "    def path_time(self,route:list):\n",
    "        '''传入路径列表，会计算走这条路的耗时'''\n",
    "        time=0\n",
    "        for i,j in nx.utils.pairwise(route):\n",
    "            time+=self.mintime.at[i,j]\n",
    "        return time\n",
    "    \n",
    "    def calculator(self,route:list):\n",
    "        '''获得一条路上的最佳信息流数量，最佳初始应该携带的发放数目，最佳信息流路径，路途时间\n",
    "        return:(10, 0, [[0, 0], [0, 6], [0, 2], [0, 2], [0, 0], [0, 0]],左边表示送出书，右边表示楼归还书)'''\n",
    "        def get_max_flow(arrays):\n",
    "            '''工具函数，用于计算不同初始携带量，最终流量最大'''\n",
    "            max_array=[]\n",
    "            max_sum = 0\n",
    "            max_index=0\n",
    "            for index,array in enumerate(arrays): #index从零开始代表初始携带\n",
    "                sum = np.sum(array)\n",
    "                if sum > max_sum:\n",
    "                    max_sum = sum\n",
    "                    max_array=array\n",
    "                    max_index=index\n",
    "            return max_index,max_array,max_sum #返回最佳携带量，最佳信息流路径，最佳信息流\n",
    "            \n",
    "\n",
    "        bestflow=0\n",
    "        borrow_flow=0\n",
    "        back_flow=0\n",
    "        capacity=10\n",
    "        delivery_change_flow=[]\n",
    "        for i in range(11):\n",
    "            load={'delivery':0,'pickup':0}\n",
    "            load['delivery']=i #选择最优初始携带量，注意如果刚启动在充电站是没发装书的，这里要检查一下\n",
    "            flow_per_path=[[0,0]] #第一个地点没有流\n",
    "\n",
    "            for index,building in enumerate(route):\n",
    "                if index==0:\n",
    "                    continue\n",
    "                else:\n",
    "                \n",
    "                    #先发放\n",
    "                    if load['delivery']<map.get_building_borrow(building) and load['delivery']!=0: #不够发放时,比如我带了3本对方要4本,但我还没到0本\n",
    "                        borrow_flow=load['delivery'] #发完书\n",
    "                        load['delivery']=0\n",
    "                    elif load['delivery']==0:\n",
    "                        borrow_flow=0\n",
    "                    else: #比如我带了6本，对方要3本，完全够\n",
    "                        borrow_flow=map.get_building_borrow(building)\n",
    "                        load['delivery']-=map.get_building_borrow(building)\n",
    "                    \n",
    "                    if load['delivery']+load['pickup']+map.get_building_back(building)>capacity and load['delivery']+load['pickup']!=capacity:\n",
    "                        #超重但没有满载，例如当前携带发放书本3本，归还书本6本\n",
    "                        back_flow=capacity-(load['delivery']+load['pickup'])\n",
    "                        load['pickup']+=back_flow\n",
    "                        \n",
    "                    elif load['delivery']+load['pickup']==capacity:\n",
    "                        back_flow=0\n",
    "                    else:\n",
    "                        back_flow=map.get_building_back(building)\n",
    "                        load['pickup']+=back_flow\n",
    "                flow_per_path.append([borrow_flow,back_flow])\n",
    "           \n",
    "            delivery_change_flow.append(flow_per_path)\n",
    "            if self.location!='图书馆':\n",
    "                break\n",
    "        best_delivery,best_per_path_flow,bestflow=get_max_flow(delivery_change_flow)\n",
    "        return bestflow,best_delivery,best_per_path_flow,self.path_time(route) #最佳信息流数量，最佳初始应该携带的发放数目，最佳信息流路径，路途时间\n",
    "        \n",
    "\n",
    "    \n",
    "    def route_chooser(self,start,end):\n",
    "        '''根据起点终点,利用拓展树返回一条最优路径队列'''\n",
    "        index=1\n",
    "        best=[0,1000] #流、时间\n",
    "        bestroute=[]\n",
    "        \n",
    "        while True:\n",
    "        \n",
    "            all_route=[i for i in list(nx.all_simple_paths(G,start,end,cutoff=index)) if len(i)==index+1] #走n步会有n+1个节点\n",
    "            if not all_route: #如果路是空的\n",
    "                index+=1\n",
    "                continue\n",
    "            for i in all_route:\n",
    "                current=self.calculator(i) #记录当前路径得分\n",
    "                if current[0]>best[0]: #如果有流比当前流大 current的0代表流，3代表时间\n",
    "                    best[0]=current[0]\n",
    "                    best[1]=current[3]\n",
    "                    bestroute=i\n",
    "                elif current[0]==best[0] and current[3]<best[1]: #时间较小\n",
    "                    best[0]=current[0]\n",
    "                    best[1]=current[3]\n",
    "                    bestroute=i \n",
    "                    \n",
    "                   \n",
    "               \n",
    "            index+=1\n",
    "            if index>=self.constraint: #如已经到达循环上限 \n",
    "            \n",
    "                return bestroute #返回最优路径\n",
    "    \n",
    "    def route_modifier(self,flow_per_path): #将无流区域截断，选择最短路回来,避免tsp问题\n",
    "        '''在外部调用，对queue进行改变'''\n",
    "        index=0\n",
    "        for i in range(len(flow_per_path)):\n",
    "            if flow_per_path[-(i+1)]!=[0,0]:\n",
    "                index=i\n",
    "                break\n",
    "        self.mission_queue=self.mission_queue[:-index] #截断后面是0的部分比如[0,0,5,5,0,0]->[0,0,5,5]\n",
    "        last_location=self.mission_queue.pop()\n",
    "        self.mission_queue+=nx.shortest_path(map.G,last_location,'图书馆') #更新道路\n",
    "\n",
    "    \n",
    "    def move(self): #按预设路径行动一步,更新时间\n",
    "        \n",
    "        if len(self.mission_queue)>1:\n",
    "            self.location=self.mission_queue.pop(0) #初始点位\n",
    "            self.time_remain=self.get_mintime(self.location,self.mission_queue[0]) #计算到下一点的时间\n",
    "        else: #此时长度为1，是终点\n",
    "            self.location=self.mission_queue.pop() #终点\n",
    "            if self.mode=='retrieve' and self.location==self.base:\n",
    "                self.mode='complete'\n",
    "                print(f'{self.name}成功完成图书馆的委托到达基地{self.base}')\n",
    "                return \n",
    "            self.mode='decision' #设为决策\n",
    "            self.run() #开启下轮行动\n",
    "\n",
    "\n",
    "    def tick(self): #模拟时间流逝\n",
    "        if self.mode!='complete':\n",
    "            if self.time_remain>0: #正在路上\n",
    "                self.time_remain-=Map.time_interval #模拟运动\n",
    "                self.timer+=Map.time_interval\n",
    "            if self.time_remain<=0:\n",
    "                self.move() #开始下轮运动\n",
    "        else:\n",
    "            return \n",
    "\n",
    "\n",
    "        \n",
    "\n",
    "    def run(self): #让机器人开始新一轮行动\n",
    "        if map.check_complete():\n",
    "            self.mode='retrieve'\n",
    "            self.return_base()\n",
    "            \n",
    "        else:   \n",
    "            if self.mode=='start':\n",
    "                self.mode='working'\n",
    "                self.mission_queue=self.route_chooser(self.base,'图书馆')\n",
    "                self.update_map()\n",
    "                self.move()# 行动一步\n",
    "            elif self.mode=='decision': #决策阶段\n",
    "                self.mode='working'\n",
    "                self.load=0 #卸货\n",
    "                best=[0,1000]\n",
    "                self.mission_queue=[]\n",
    "                for i in G['图书馆']: #会巡视四周四个点，返回一条最优回路,优先选最大流里的最小时间\n",
    "                    route=self.route_chooser(i,'图书馆')\n",
    "                    current=self.calculator(route)\n",
    "                    if current[0]>best[0]: #如果有流比当前流大\n",
    "                        best=current\n",
    "                        self.mission_queue=route\n",
    "                    elif current[0]==best[0] and current[3]<best[1]: #时间较小\n",
    "                        best=current\n",
    "                        self.mission_queue=route   \n",
    "\n",
    "                self.mission_queue=[self.location]+self.mission_queue #将当前地点加入到任务队列\n",
    "                self.load=self.calculator(self.mission_queue)[1] #更新最优载重\n",
    "                self.update_map() #决策完成后，更新地图信息让其他机器人得知这条路被自己预支\n",
    "                self.move() #行动一步\n",
    "            \n",
    "    def return_base(self):\n",
    "        '''决策阶段检测到地图已经没有书,进行返回'''\n",
    "        self.mission_queue=nx.dijkstra_path(G,'图书馆',self.base)\n",
    "        print(f'{self.name}开始返程,当前时间为{self.timer:.2f},返程路径为{self.mission_queue}')\n",
    "        self.move()\n",
    "        \n",
    "    def update_map(self): #一旦完成决策，立即更新地图信息\n",
    "        flow_per_path=self.calculator(self.mission_queue)[2]\n",
    "        # #修正道路（不建议）\n",
    "        # if self.location!=self.base: #起始时不修正\n",
    "        #     self.route_modifier(flow_per_path)\n",
    "           \n",
    "        for buliding,book_num in zip(self.mission_queue,flow_per_path):\n",
    "            map.set_building_back(buliding,map.get_building_back(buliding)-book_num[1]) #回收书本\n",
    "            map.set_building_borrow(buliding,map.get_building_borrow(buliding)-book_num[0]) #发放书本\n",
    "        print(f'{self.name}在时间{self.timer:.2f}h,路径{self.mission_queue},借还流:{flow_per_path}')\n",
    "\n",
    "class Map:\n",
    "    time_interval=0.0001 #时间流逝步长\n",
    "    def __init__(self,G) -> None:\n",
    "        '''允许通过地图类修改全局地图'''\n",
    "        self.remainbook=True #是否全地图都没书\n",
    "        self.G=G\n",
    "\n",
    "    def get_building_back(self,building):\n",
    "        '''获取某地点的还书信息'''\n",
    "        return self.G.nodes[building]['back']\n",
    "    def get_building_borrow(self,building):\n",
    "        '''获取某地点的借书信息'''\n",
    "        return self.G.nodes[building]['borrow']\n",
    "    def set_building_back(self,building,number):\n",
    "        '''设置地点的还书信息'''\n",
    "        self.G.nodes[building]['back']=number\n",
    "    def set_building_borrow(self,building,number):\n",
    "        '''获取某地点的还书信息'''\n",
    "        self.G.nodes[building]['borrow']=number\n",
    "\n",
    "    def check_complete(self):\n",
    "        '''检查是否已经空'''\n",
    "        label_back=nx.get_node_attributes(G,'back')\n",
    "        label_borrow=nx.get_node_attributes(G,'borrow')\n",
    "        return all(i==0 for i in label_back.values()) and all(i==0 for i in label_borrow.values()) #检查是否全为0\n",
    " \n",
    "G=modify_graph()\n",
    "map=Map(G)\n",
    "A=Robot(8,10,'机器人A','右充电站',11)\n",
    "B=Robot(10,10,'机器人B','左充电站',9)\n",
    "\n",
    "\n",
    "for i in range(500000):\n",
    "    for j in [A,B]:\n",
    "        j.tick()   \n",
    "    if A.mode=='complete' and B.mode=='complete':\n",
    "        print(f'A用时:{A.timer:.2f},B用时:{B.timer:.2f}')\n",
    "        break\n"
   ]
  }
 ],
 "metadata": {
  "kernelspec": {
   "display_name": "Python 3 (ipykernel)",
   "language": "python",
   "name": "python3"
  },
  "language_info": {
   "codemirror_mode": {
    "name": "ipython",
    "version": 3
   },
   "file_extension": ".py",
   "mimetype": "text/x-python",
   "name": "python",
   "nbconvert_exporter": "python",
   "pygments_lexer": "ipython3",
   "version": "3.9.13"
  },
  "toc": {
   "base_numbering": 1,
   "nav_menu": {},
   "number_sections": true,
   "sideBar": false,
   "skip_h1_title": false,
   "title_cell": "Table of Contents",
   "title_sidebar": "Contents",
   "toc_cell": false,
   "toc_position": {
    "height": "736px",
    "left": "23px",
    "top": "178px",
    "width": "341.448px"
   },
   "toc_section_display": true,
   "toc_window_display": false
  }
 },
 "nbformat": 4,
 "nbformat_minor": 5
}
